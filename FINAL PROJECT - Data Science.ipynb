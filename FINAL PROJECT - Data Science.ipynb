{
 "cells": [
  {
   "cell_type": "markdown",
   "id": "f79f9177-5d0d-4b8a-8657-169a32ed13de",
   "metadata": {
    "tags": []
   },
   "source": [
    "# CASO FINAL - MODULO 3: LA CIENCIA DE DATOS"
   ]
  },
  {
   "cell_type": "markdown",
   "id": "71ebfe2d-d3a1-4150-8e87-ee289584914e",
   "metadata": {},
   "source": [
    "### 1. Cargar los datos y realizar un análisis exploratorio y una evaluación de la calidad de los datos necesarios para el resto del caso.\n",
    "\n",
    "#### Específicamente, evaluar la integridad, validez y actualidad de los datos y proponer estrategias de mitigación de los posibles problemas encontrados."
   ]
  },
  {
   "cell_type": "code",
   "execution_count": 1,
   "id": "90cf22bd-c460-4eb9-bcf8-75cedba5af01",
   "metadata": {},
   "outputs": [],
   "source": [
    "import pandas as pd\n",
    "import numpy as np"
   ]
  },
  {
   "cell_type": "code",
   "execution_count": 2,
   "id": "992a038e-fb54-4cd5-bdaa-640f6030491c",
   "metadata": {},
   "outputs": [],
   "source": [
    "DF = pd.read_csv('/Users/viole/Downloads/compas-scores.csv') "
   ]
  },
  {
   "cell_type": "markdown",
   "id": "99f8a9c4-d7b6-4733-93b2-25b7cba4707f",
   "metadata": {},
   "source": [
    "Creamos un dataset reducido con los campos que se indican en el enunciado. También incluimos las columnas de nombre, edad, sexo y raza para identificar a los distintos individuos y ver si estas caracteristicas tienen alguna influencia en los resultados.\n",
    "\n",
    "Es interesante incluir la columna que cuenta las veces que cada individuo ha estado arrestado previas al estudio (priors_count), ya que puede aportar mucha informacion acerca de la posibilidad de reincidencia."
   ]
  },
  {
   "cell_type": "code",
   "execution_count": 3,
   "id": "c930b8a1-849d-4bfa-8313-a59c0306824e",
   "metadata": {},
   "outputs": [],
   "source": [
    "df= DF[['name', 'age', 'sex', 'race', 'compas_screening_date', 'decile_score', 'v_decile_score', 'is_recid', 'r_offense_date', 'is_violent_recid', 'vr_offense_date', 'priors_count' \n",
    " ]].copy()"
   ]
  },
  {
   "cell_type": "code",
   "execution_count": 4,
   "id": "a6da45af-a49d-49d4-b79c-ed1382676df0",
   "metadata": {},
   "outputs": [
    {
     "data": {
      "text/html": [
       "<div>\n",
       "<style scoped>\n",
       "    .dataframe tbody tr th:only-of-type {\n",
       "        vertical-align: middle;\n",
       "    }\n",
       "\n",
       "    .dataframe tbody tr th {\n",
       "        vertical-align: top;\n",
       "    }\n",
       "\n",
       "    .dataframe thead th {\n",
       "        text-align: right;\n",
       "    }\n",
       "</style>\n",
       "<table border=\"1\" class=\"dataframe\">\n",
       "  <thead>\n",
       "    <tr style=\"text-align: right;\">\n",
       "      <th></th>\n",
       "      <th>name</th>\n",
       "      <th>age</th>\n",
       "      <th>sex</th>\n",
       "      <th>race</th>\n",
       "      <th>compas_screening_date</th>\n",
       "      <th>decile_score</th>\n",
       "      <th>v_decile_score</th>\n",
       "      <th>is_recid</th>\n",
       "      <th>r_offense_date</th>\n",
       "      <th>is_violent_recid</th>\n",
       "      <th>vr_offense_date</th>\n",
       "      <th>priors_count</th>\n",
       "    </tr>\n",
       "  </thead>\n",
       "  <tbody>\n",
       "    <tr>\n",
       "      <th>0</th>\n",
       "      <td>miguel hernandez</td>\n",
       "      <td>69</td>\n",
       "      <td>Male</td>\n",
       "      <td>Other</td>\n",
       "      <td>2013-08-14</td>\n",
       "      <td>1</td>\n",
       "      <td>1</td>\n",
       "      <td>0</td>\n",
       "      <td>NaN</td>\n",
       "      <td>0</td>\n",
       "      <td>NaN</td>\n",
       "      <td>0</td>\n",
       "    </tr>\n",
       "    <tr>\n",
       "      <th>1</th>\n",
       "      <td>michael ryan</td>\n",
       "      <td>31</td>\n",
       "      <td>Male</td>\n",
       "      <td>Caucasian</td>\n",
       "      <td>2014-12-31</td>\n",
       "      <td>5</td>\n",
       "      <td>2</td>\n",
       "      <td>-1</td>\n",
       "      <td>NaN</td>\n",
       "      <td>0</td>\n",
       "      <td>NaN</td>\n",
       "      <td>0</td>\n",
       "    </tr>\n",
       "    <tr>\n",
       "      <th>2</th>\n",
       "      <td>kevon dixon</td>\n",
       "      <td>34</td>\n",
       "      <td>Male</td>\n",
       "      <td>African-American</td>\n",
       "      <td>2013-01-27</td>\n",
       "      <td>3</td>\n",
       "      <td>1</td>\n",
       "      <td>1</td>\n",
       "      <td>2013-07-05</td>\n",
       "      <td>1</td>\n",
       "      <td>2013-07-05</td>\n",
       "      <td>0</td>\n",
       "    </tr>\n",
       "    <tr>\n",
       "      <th>3</th>\n",
       "      <td>ed philo</td>\n",
       "      <td>24</td>\n",
       "      <td>Male</td>\n",
       "      <td>African-American</td>\n",
       "      <td>2013-04-14</td>\n",
       "      <td>4</td>\n",
       "      <td>3</td>\n",
       "      <td>1</td>\n",
       "      <td>2013-06-16</td>\n",
       "      <td>0</td>\n",
       "      <td>NaN</td>\n",
       "      <td>4</td>\n",
       "    </tr>\n",
       "    <tr>\n",
       "      <th>4</th>\n",
       "      <td>marcu brown</td>\n",
       "      <td>23</td>\n",
       "      <td>Male</td>\n",
       "      <td>African-American</td>\n",
       "      <td>2013-01-13</td>\n",
       "      <td>8</td>\n",
       "      <td>6</td>\n",
       "      <td>0</td>\n",
       "      <td>NaN</td>\n",
       "      <td>0</td>\n",
       "      <td>NaN</td>\n",
       "      <td>1</td>\n",
       "    </tr>\n",
       "  </tbody>\n",
       "</table>\n",
       "</div>"
      ],
      "text/plain": [
       "               name  age   sex              race compas_screening_date  \\\n",
       "0  miguel hernandez   69  Male             Other            2013-08-14   \n",
       "1      michael ryan   31  Male         Caucasian            2014-12-31   \n",
       "2       kevon dixon   34  Male  African-American            2013-01-27   \n",
       "3          ed philo   24  Male  African-American            2013-04-14   \n",
       "4       marcu brown   23  Male  African-American            2013-01-13   \n",
       "\n",
       "   decile_score  v_decile_score  is_recid r_offense_date  is_violent_recid  \\\n",
       "0             1               1         0            NaN                 0   \n",
       "1             5               2        -1            NaN                 0   \n",
       "2             3               1         1     2013-07-05                 1   \n",
       "3             4               3         1     2013-06-16                 0   \n",
       "4             8               6         0            NaN                 0   \n",
       "\n",
       "  vr_offense_date  priors_count  \n",
       "0             NaN             0  \n",
       "1             NaN             0  \n",
       "2      2013-07-05             0  \n",
       "3             NaN             4  \n",
       "4             NaN             1  "
      ]
     },
     "execution_count": 4,
     "metadata": {},
     "output_type": "execute_result"
    }
   ],
   "source": [
    "df.head()"
   ]
  },
  {
   "cell_type": "markdown",
   "id": "eefcd2a3-85f2-49cd-883d-b61448972598",
   "metadata": {},
   "source": [
    "### ANALISIS\n",
    "\n",
    "Hacemos un primer analisis superficial de los datos a través de las 5 primeras filas.\n",
    "\n",
    "Como podemos ver la columna de r_offense_date y vr_offense_date contienen valores nulos que habrá que subsanar.\n",
    "\n"
   ]
  },
  {
   "cell_type": "code",
   "execution_count": 5,
   "id": "b31988b3-1f40-4c5b-8f6b-d53fb23f7488",
   "metadata": {},
   "outputs": [
    {
     "name": "stdout",
     "output_type": "stream",
     "text": [
      "name                         0\n",
      "age                          0\n",
      "sex                          0\n",
      "race                         0\n",
      "compas_screening_date        0\n",
      "decile_score                 0\n",
      "v_decile_score               0\n",
      "is_recid                     0\n",
      "r_offense_date            8054\n",
      "is_violent_recid             0\n",
      "vr_offense_date          10875\n",
      "priors_count                 0\n",
      "dtype: int64\n"
     ]
    }
   ],
   "source": [
    "print(df.isnull().sum())"
   ]
  },
  {
   "cell_type": "markdown",
   "id": "769c915d-fcae-4433-94f0-939751c4a4b6",
   "metadata": {},
   "source": [
    "Como hemos dicho antes y tras esta comprobación, solo tenemos dos columnas con valores nulos. En este caso, al tratarse de fechas, la mejor opción es eliminar los valores nulos. No es posible hacer una sustitución ya que la veracidad de los datos se vería afectada."
   ]
  },
  {
   "cell_type": "code",
   "execution_count": 6,
   "id": "68266643-6fb5-420b-8d37-66fbb235689b",
   "metadata": {},
   "outputs": [],
   "source": [
    "df_noNa=df.dropna().copy()"
   ]
  },
  {
   "cell_type": "code",
   "execution_count": 7,
   "id": "04ed0c06-9eee-4a6f-947e-38164f1b871c",
   "metadata": {},
   "outputs": [
    {
     "name": "stdout",
     "output_type": "stream",
     "text": [
      "name                     0\n",
      "age                      0\n",
      "sex                      0\n",
      "race                     0\n",
      "compas_screening_date    0\n",
      "decile_score             0\n",
      "v_decile_score           0\n",
      "is_recid                 0\n",
      "r_offense_date           0\n",
      "is_violent_recid         0\n",
      "vr_offense_date          0\n",
      "priors_count             0\n",
      "dtype: int64\n"
     ]
    }
   ],
   "source": [
    "print(df_noNa.isnull().sum())"
   ]
  },
  {
   "cell_type": "code",
   "execution_count": 8,
   "id": "108b873e-eadd-455d-999c-bf41406ad2db",
   "metadata": {},
   "outputs": [
    {
     "data": {
      "text/plain": [
       "(11757, 12)"
      ]
     },
     "execution_count": 8,
     "metadata": {},
     "output_type": "execute_result"
    }
   ],
   "source": [
    "df.shape"
   ]
  },
  {
   "cell_type": "code",
   "execution_count": 9,
   "id": "173e0613-cd5d-4ab2-8ab5-842cc90f8dac",
   "metadata": {},
   "outputs": [
    {
     "data": {
      "text/plain": [
       "(882, 12)"
      ]
     },
     "execution_count": 9,
     "metadata": {},
     "output_type": "execute_result"
    }
   ],
   "source": [
    "df_noNa.shape"
   ]
  },
  {
   "cell_type": "markdown",
   "id": "42d2f7f3-8150-4432-a96f-aafca8cd1704",
   "metadata": {},
   "source": [
    "Con la eliminacion de los valores nulos, el dataset se reduce considerablemente, lo que nos indica que la calidad del mismo no es muy buena, ya que estamos perdiendo cerca de un 90% de los datos (de 11.757 casos a tan solo 882), lo que reduce significativamente la integridad."
   ]
  },
  {
   "cell_type": "markdown",
   "id": "acd76801-3b16-438e-b846-8802165efdd7",
   "metadata": {},
   "source": [
    "Por otro lado, sabemos que la columna is_recid puede tener los siguientes valores:\n",
    "- -1 (tras analizar las diferentes columnas vemos que hay una falta de datos de los arrestos)\n",
    "- 0 (no ha reincidido) \n",
    "- 1 (ha reincidido)\n",
    "\n",
    "Procedemos a eliminar los casos en los que el valor de esa columna es -1 ya que son incompletos."
   ]
  },
  {
   "cell_type": "code",
   "execution_count": 10,
   "id": "c3a4e509-3f9e-4452-bfea-83b3d274f649",
   "metadata": {},
   "outputs": [],
   "source": [
    "df_clean = df_noNa[df_noNa['is_recid']!= -1].copy()"
   ]
  },
  {
   "cell_type": "code",
   "execution_count": 11,
   "id": "61ed5419-bbc3-4db1-b914-603b3991ffa3",
   "metadata": {},
   "outputs": [
    {
     "data": {
      "text/plain": [
       "array([1], dtype=int64)"
      ]
     },
     "execution_count": 11,
     "metadata": {},
     "output_type": "execute_result"
    }
   ],
   "source": [
    "df_clean['is_recid'].unique()"
   ]
  },
  {
   "cell_type": "markdown",
   "id": "32dc7343-b954-4805-a620-1dece5e75254",
   "metadata": {},
   "source": [
    "Vamos a continuar viendo si existen duplicidades en los datos registrados"
   ]
  },
  {
   "cell_type": "code",
   "execution_count": 12,
   "id": "6d662789-5d9b-47b1-b5c0-80eed1a2a95e",
   "metadata": {},
   "outputs": [
    {
     "data": {
      "text/plain": [
       "name                     881\n",
       "age                       51\n",
       "sex                        2\n",
       "race                       6\n",
       "compas_screening_date    468\n",
       "decile_score              10\n",
       "v_decile_score            10\n",
       "is_recid                   1\n",
       "r_offense_date           605\n",
       "is_violent_recid           1\n",
       "vr_offense_date          599\n",
       "priors_count              31\n",
       "dtype: int64"
      ]
     },
     "execution_count": 12,
     "metadata": {},
     "output_type": "execute_result"
    }
   ],
   "source": [
    "df_clean.nunique()"
   ]
  },
  {
   "cell_type": "markdown",
   "id": "4883127b-f5a8-444a-a01d-d5126da2f0eb",
   "metadata": {},
   "source": [
    "Tenemos 881 nombres para 882 casos, por lo que vamos a estudiar si se trata de una duplicidad o no."
   ]
  },
  {
   "cell_type": "code",
   "execution_count": 13,
   "id": "c0abf3d3-6626-4424-91b5-df1d70254632",
   "metadata": {},
   "outputs": [
    {
     "data": {
      "text/html": [
       "<div>\n",
       "<style scoped>\n",
       "    .dataframe tbody tr th:only-of-type {\n",
       "        vertical-align: middle;\n",
       "    }\n",
       "\n",
       "    .dataframe tbody tr th {\n",
       "        vertical-align: top;\n",
       "    }\n",
       "\n",
       "    .dataframe thead th {\n",
       "        text-align: right;\n",
       "    }\n",
       "</style>\n",
       "<table border=\"1\" class=\"dataframe\">\n",
       "  <thead>\n",
       "    <tr style=\"text-align: right;\">\n",
       "      <th></th>\n",
       "      <th>name</th>\n",
       "      <th>age</th>\n",
       "      <th>sex</th>\n",
       "      <th>race</th>\n",
       "      <th>compas_screening_date</th>\n",
       "      <th>decile_score</th>\n",
       "      <th>v_decile_score</th>\n",
       "      <th>is_recid</th>\n",
       "      <th>r_offense_date</th>\n",
       "      <th>is_violent_recid</th>\n",
       "      <th>vr_offense_date</th>\n",
       "      <th>priors_count</th>\n",
       "    </tr>\n",
       "  </thead>\n",
       "  <tbody>\n",
       "    <tr>\n",
       "      <th>2230</th>\n",
       "      <td>james scott</td>\n",
       "      <td>24</td>\n",
       "      <td>Male</td>\n",
       "      <td>African-American</td>\n",
       "      <td>2013-01-31</td>\n",
       "      <td>9</td>\n",
       "      <td>9</td>\n",
       "      <td>1</td>\n",
       "      <td>2013-02-07</td>\n",
       "      <td>1</td>\n",
       "      <td>2014-02-09</td>\n",
       "      <td>12</td>\n",
       "    </tr>\n",
       "    <tr>\n",
       "      <th>8772</th>\n",
       "      <td>james scott</td>\n",
       "      <td>40</td>\n",
       "      <td>Male</td>\n",
       "      <td>African-American</td>\n",
       "      <td>2013-09-12</td>\n",
       "      <td>6</td>\n",
       "      <td>8</td>\n",
       "      <td>1</td>\n",
       "      <td>2013-10-12</td>\n",
       "      <td>1</td>\n",
       "      <td>2013-10-12</td>\n",
       "      <td>23</td>\n",
       "    </tr>\n",
       "  </tbody>\n",
       "</table>\n",
       "</div>"
      ],
      "text/plain": [
       "             name  age   sex              race compas_screening_date  \\\n",
       "2230  james scott   24  Male  African-American            2013-01-31   \n",
       "8772  james scott   40  Male  African-American            2013-09-12   \n",
       "\n",
       "      decile_score  v_decile_score  is_recid r_offense_date  is_violent_recid  \\\n",
       "2230             9               9         1     2013-02-07                 1   \n",
       "8772             6               8         1     2013-10-12                 1   \n",
       "\n",
       "     vr_offense_date  priors_count  \n",
       "2230      2014-02-09            12  \n",
       "8772      2013-10-12            23  "
      ]
     },
     "execution_count": 13,
     "metadata": {},
     "output_type": "execute_result"
    }
   ],
   "source": [
    "df_clean[df_clean.duplicated(['name'], keep=False)]"
   ]
  },
  {
   "cell_type": "markdown",
   "id": "b89856c4-51ee-49d6-adec-e3714847e9ab",
   "metadata": {},
   "source": [
    "Como vemos se trata de dos personas distintas, comparten el mismo nombre pero la edad es diferente. "
   ]
  },
  {
   "cell_type": "markdown",
   "id": "1f817dc3-a47d-4c6d-9994-a2fe63ce1df7",
   "metadata": {},
   "source": [
    "A continuación, veamos la información acerca del tipo de datos."
   ]
  },
  {
   "cell_type": "code",
   "execution_count": 14,
   "id": "395fcaa5-39e7-41ef-b2b2-b91f678b70d4",
   "metadata": {},
   "outputs": [
    {
     "name": "stdout",
     "output_type": "stream",
     "text": [
      "<class 'pandas.core.frame.DataFrame'>\n",
      "Int64Index: 882 entries, 2 to 11737\n",
      "Data columns (total 12 columns):\n",
      " #   Column                 Non-Null Count  Dtype \n",
      "---  ------                 --------------  ----- \n",
      " 0   name                   882 non-null    object\n",
      " 1   age                    882 non-null    int64 \n",
      " 2   sex                    882 non-null    object\n",
      " 3   race                   882 non-null    object\n",
      " 4   compas_screening_date  882 non-null    object\n",
      " 5   decile_score           882 non-null    int64 \n",
      " 6   v_decile_score         882 non-null    int64 \n",
      " 7   is_recid               882 non-null    int64 \n",
      " 8   r_offense_date         882 non-null    object\n",
      " 9   is_violent_recid       882 non-null    int64 \n",
      " 10  vr_offense_date        882 non-null    object\n",
      " 11  priors_count           882 non-null    int64 \n",
      "dtypes: int64(6), object(6)\n",
      "memory usage: 89.6+ KB\n"
     ]
    }
   ],
   "source": [
    "df_clean.info()"
   ]
  },
  {
   "cell_type": "markdown",
   "id": "5e6f9aa5-2496-4297-a9ac-9470f558b3de",
   "metadata": {},
   "source": [
    "Python conseidera muchas de las columnas objetos, lo que es muy general. Vamos a reclasificarlas de la siguiente manera:\n",
    "- La columna nombre la covertiremos en una cadena de texto\n",
    "- El sexo y la raza, en categorías\n",
    "- Las 3 columnas que nos indican fechas, en fechas"
   ]
  },
  {
   "cell_type": "code",
   "execution_count": 15,
   "id": "9d323f51-dba8-45a4-8836-b3f7316e4353",
   "metadata": {},
   "outputs": [],
   "source": [
    "df_clean['name'] = df_clean['name'].astype('string')\n",
    "\n",
    "df_clean['sex'] = df_clean['sex'].astype('category')\n",
    "df_clean['race'] = df_clean['race'].astype('category')\n",
    "\n",
    "df_clean['compas_screening_date'] = pd.to_datetime(df_clean['compas_screening_date'])\n",
    "df_clean['r_offense_date'] = pd.to_datetime(df_clean['r_offense_date'])\n",
    "df_clean['vr_offense_date'] = pd.to_datetime(df_clean['vr_offense_date'])\n"
   ]
  },
  {
   "cell_type": "code",
   "execution_count": 16,
   "id": "317263a0-cb55-4661-81b0-2787e5936736",
   "metadata": {},
   "outputs": [
    {
     "name": "stdout",
     "output_type": "stream",
     "text": [
      "<class 'pandas.core.frame.DataFrame'>\n",
      "Int64Index: 882 entries, 2 to 11737\n",
      "Data columns (total 12 columns):\n",
      " #   Column                 Non-Null Count  Dtype         \n",
      "---  ------                 --------------  -----         \n",
      " 0   name                   882 non-null    string        \n",
      " 1   age                    882 non-null    int64         \n",
      " 2   sex                    882 non-null    category      \n",
      " 3   race                   882 non-null    category      \n",
      " 4   compas_screening_date  882 non-null    datetime64[ns]\n",
      " 5   decile_score           882 non-null    int64         \n",
      " 6   v_decile_score         882 non-null    int64         \n",
      " 7   is_recid               882 non-null    int64         \n",
      " 8   r_offense_date         882 non-null    datetime64[ns]\n",
      " 9   is_violent_recid       882 non-null    int64         \n",
      " 10  vr_offense_date        882 non-null    datetime64[ns]\n",
      " 11  priors_count           882 non-null    int64         \n",
      "dtypes: category(2), datetime64[ns](3), int64(6), string(1)\n",
      "memory usage: 77.9 KB\n"
     ]
    }
   ],
   "source": [
    "df_clean.info()"
   ]
  },
  {
   "cell_type": "markdown",
   "id": "faea0e31-df39-4b1d-9af6-c1e7a3625f16",
   "metadata": {},
   "source": [
    "Una vez limpios los datos, vamos a hacer una valoración del dataset. Para ello nos vamos a basar en 3 de las 6 dimensiones estudiadas. \n",
    "\n",
    "Empezando por la __integridad__, podemos decir que se ve muy reducida debido a que no disponemos de todos los datos relevantes para analizar la precisión del sistema al tener que eliminar una gran cantidad de casos por la falta de valores. \n",
    "\n",
    "Por el contrario tenemos una alta __validez__ ya que los datos siguen las mismas reglas y usan la misma sistaxis. Analizando los datos por columnas podemos ver que los valores de edad se mueven desde los 18 hasta los 77; por otro lado, ambas puntuaciones, lo hacen en el rango 1-10 descrito en el enunciado; el numero de arrestos previos fluctua entre 0 y 38, lo cual tiene sentido legal, así como el rango de edad. Para las columnas de reincidencia violenta y no violenta podemos ver que solo contienen un valor, 1. Al limpiar los valores nulos del dataframe hemos eliminado todos los casos de no reincidencia dejando solo los que si han vuelto a cometer un crimen, cerciorando la falta de intergidad de este dataset. \n",
    "\n",
    "Por último, podemos comentar que respecto a  la __actualidad__, estando en el año 2022 este dataset no es muy reciente al haber pasado casi 10 años desde la realización del estudio."
   ]
  },
  {
   "cell_type": "markdown",
   "id": "89008543-3a83-44b0-9dd5-d5dac33d3a37",
   "metadata": {},
   "source": [
    "### ESTRATÉGIAS\n",
    "\n",
    "Las estrategias posibles para mitigar la falta de calidad son:\n",
    "- Perfilado de datos: analizamos los datos tratando de detectar problemas.\n",
    "- La limpieza de datos: realizada al eliminar los valores nulos encontrado en el perfilado, viendo si hay duplicidades y tipando los datos.\n",
    "- Enriquecimiento de datos: estrategia a futuro para tratar de complementar la información disponible para poder realizar un mejor analisis de los mismos.\n",
    "\n",
    "Para evitar sacrificar alguna dimensión al tratar de mejorar la integridad la mejor opción sería una nueva recoleccion de datos. Esto también podría ayudar a mejorar la actualidad si los nuevos datos son tomados de los registros de los ultimos años."
   ]
  },
  {
   "cell_type": "markdown",
   "id": "53ac5df5-c4d5-49ab-a479-e64fd16b3fe4",
   "metadata": {},
   "source": [
    "### 2. ¿Son los campos “is_recid” e “is_violent_recid” en este conjunto de datos adecuados para evaluar la precisión de las estimaciones de riesgo generadas por el sistema COMPAS? Si no es así, definir y calcular una feature que sí lo sea."
   ]
  },
  {
   "cell_type": "markdown",
   "id": "66ce452f-be7a-4281-b4ed-e22e4d13dd05",
   "metadata": {},
   "source": [
    "Para poder ver si son adecuados tenemos que trabajar con el dataset original ya que, en el que hemos limpiado solo hay un valor posible para ambas columnas (“is_recid” e “is_violent_recid”). \n",
    "\n",
    "Realizamos una tabla de contigencia para evaluarlo, calculando la precisión a través de los resultados obtenidos. Tomaremos los valores de si es reincidente como reales y las predicciones del programa (decile_score) mayores a 7 * como los datos predichos.\n",
    "\n",
    "\n",
    "*Tomamos los valores mayores que 7 ya que se indica en el siguiente apartado que es el umbral desde el cual se toman medidas preventivas."
   ]
  },
  {
   "cell_type": "code",
   "execution_count": 17,
   "id": "44ae0210-b0f2-4693-b604-0ebe7eb07cba",
   "metadata": {},
   "outputs": [],
   "source": [
    "tabla_contingencia = pd.crosstab(df['is_recid']==1,df['decile_score'] >=7, rownames=['Predichos'],colnames=['Reales'])"
   ]
  },
  {
   "cell_type": "code",
   "execution_count": 18,
   "id": "7212a6a0-c8b8-49c8-8ae8-de38575c240f",
   "metadata": {},
   "outputs": [
    {
     "data": {
      "text/html": [
       "<div>\n",
       "<style scoped>\n",
       "    .dataframe tbody tr th:only-of-type {\n",
       "        vertical-align: middle;\n",
       "    }\n",
       "\n",
       "    .dataframe tbody tr th {\n",
       "        vertical-align: top;\n",
       "    }\n",
       "\n",
       "    .dataframe thead th {\n",
       "        text-align: right;\n",
       "    }\n",
       "</style>\n",
       "<table border=\"1\" class=\"dataframe\">\n",
       "  <thead>\n",
       "    <tr style=\"text-align: right;\">\n",
       "      <th>Reales</th>\n",
       "      <th>False</th>\n",
       "      <th>True</th>\n",
       "    </tr>\n",
       "    <tr>\n",
       "      <th>Predichos</th>\n",
       "      <th></th>\n",
       "      <th></th>\n",
       "    </tr>\n",
       "  </thead>\n",
       "  <tbody>\n",
       "    <tr>\n",
       "      <th>False</th>\n",
       "      <td>6449</td>\n",
       "      <td>1605</td>\n",
       "    </tr>\n",
       "    <tr>\n",
       "      <th>True</th>\n",
       "      <td>2200</td>\n",
       "      <td>1503</td>\n",
       "    </tr>\n",
       "  </tbody>\n",
       "</table>\n",
       "</div>"
      ],
      "text/plain": [
       "Reales     False  True\n",
       "Predichos             \n",
       "False       6449  1605\n",
       "True        2200  1503"
      ]
     },
     "execution_count": 18,
     "metadata": {},
     "output_type": "execute_result"
    }
   ],
   "source": [
    "tabla_contingencia\n"
   ]
  },
  {
   "cell_type": "code",
   "execution_count": 19,
   "id": "59c687f3-e12b-4907-ab45-112e3b4d0bbe",
   "metadata": {},
   "outputs": [
    {
     "data": {
      "text/plain": [
       "40.59"
      ]
     },
     "execution_count": 19,
     "metadata": {},
     "output_type": "execute_result"
    }
   ],
   "source": [
    "precision = 1503/(2200+1503)\n",
    "round(precision*100,2)"
   ]
  },
  {
   "cell_type": "markdown",
   "id": "e9b8015e-2086-4e8a-8732-15103ee84d3d",
   "metadata": {},
   "source": [
    "La precisión del sistema COMPAS para los sujetos que son reincidentes no violentos es de un 40%. Es decir, más de la mitad de los casos son considerados como posibles reincidentes cuando en verdad no lo son. Por lo que, la variable is_recid no es aducuada para realizar las estimaciones.\n",
    "\n",
    "Vamos a realizar el mismo analisis para los casos violentos.\n"
   ]
  },
  {
   "cell_type": "code",
   "execution_count": 20,
   "id": "b1b6c417-ec68-4754-aaa4-36734907f7be",
   "metadata": {},
   "outputs": [
    {
     "data": {
      "text/html": [
       "<div>\n",
       "<style scoped>\n",
       "    .dataframe tbody tr th:only-of-type {\n",
       "        vertical-align: middle;\n",
       "    }\n",
       "\n",
       "    .dataframe tbody tr th {\n",
       "        vertical-align: top;\n",
       "    }\n",
       "\n",
       "    .dataframe thead th {\n",
       "        text-align: right;\n",
       "    }\n",
       "</style>\n",
       "<table border=\"1\" class=\"dataframe\">\n",
       "  <thead>\n",
       "    <tr style=\"text-align: right;\">\n",
       "      <th>Reales</th>\n",
       "      <th>False</th>\n",
       "      <th>True</th>\n",
       "    </tr>\n",
       "    <tr>\n",
       "      <th>Predichos</th>\n",
       "      <th></th>\n",
       "      <th></th>\n",
       "    </tr>\n",
       "  </thead>\n",
       "  <tbody>\n",
       "    <tr>\n",
       "      <th>False</th>\n",
       "      <td>9359</td>\n",
       "      <td>1516</td>\n",
       "    </tr>\n",
       "    <tr>\n",
       "      <th>True</th>\n",
       "      <td>616</td>\n",
       "      <td>266</td>\n",
       "    </tr>\n",
       "  </tbody>\n",
       "</table>\n",
       "</div>"
      ],
      "text/plain": [
       "Reales     False  True\n",
       "Predichos             \n",
       "False       9359  1516\n",
       "True         616   266"
      ]
     },
     "execution_count": 20,
     "metadata": {},
     "output_type": "execute_result"
    }
   ],
   "source": [
    "tabla_contingencia2 = pd.crosstab(df['is_violent_recid']==1,df['v_decile_score'] >=7, rownames=['Predichos'],colnames=['Reales'])\n",
    "tabla_contingencia2\n"
   ]
  },
  {
   "cell_type": "code",
   "execution_count": 21,
   "id": "be89a2c3-440a-4384-8f60-0565839057bb",
   "metadata": {},
   "outputs": [
    {
     "data": {
      "text/plain": [
       "30.16"
      ]
     },
     "execution_count": 21,
     "metadata": {},
     "output_type": "execute_result"
    }
   ],
   "source": [
    "precision2 = 266/(616+266)\n",
    "round(precision2*100,2)"
   ]
  },
  {
   "cell_type": "markdown",
   "id": "51a9f1ac-f8d4-4590-b098-c45d95ede519",
   "metadata": {},
   "source": [
    "En este caso, la precisión del sistema es menor que para los no violentos, siendo esta de un escaso 30%. Es decir, 2 de cada 3 individuos son clasificados incorrectamente."
   ]
  },
  {
   "cell_type": "markdown",
   "id": "be5b03d9-6176-45e0-87ca-666167c37e1c",
   "metadata": {},
   "source": [
    "Para cerciorarnos de si estas variables son las más adecuadas para explicar las estimaciones, vamos a elavorar una matriz de correlación entre variables y ver cuales son las mejores. Esto también nos ayudará a escoger la feature para desarrollar un mejor sistema de predicción."
   ]
  },
  {
   "cell_type": "code",
   "execution_count": 22,
   "id": "d3f5bb71-27b4-473c-a52f-4cf3e1b0fe79",
   "metadata": {},
   "outputs": [],
   "source": [
    "from matplotlib import pyplot as plt\n",
    "%matplotlib inline\n",
    "import seaborn as sns\n"
   ]
  },
  {
   "cell_type": "code",
   "execution_count": 23,
   "id": "edad6820-169e-4907-92bf-a7d993ee499b",
   "metadata": {},
   "outputs": [
    {
     "data": {
      "text/plain": [
       "<AxesSubplot:>"
      ]
     },
     "execution_count": 23,
     "metadata": {},
     "output_type": "execute_result"
    },
    {
     "data": {
      "image/png": "[encoded data removed]",
      "text/plain": [
       "<Figure size 432x288 with 2 Axes>"
      ]
     },
     "metadata": {
      "needs_background": "light"
     },
     "output_type": "display_data"
    }
   ],
   "source": [
    "sns.heatmap(df.corr(),center=0)\n"
   ]
  },
  {
   "cell_type": "markdown",
   "id": "8f005546-5097-444e-b1b8-b01007ec14e8",
   "metadata": {},
   "source": [
    "Según la anterior matriz de correlación, el campo _is_recid_ tiene una relación positiva de 0.4 respecto a _decile_score_. Mientras que para los casos violentos vemos que la relación es también positiva pero menor, siendo esta de aproximadamente 0.2.\n",
    "\n",
    "Ambas variables tienen una relación positiva pero, como podemos observar en la matriz, la variable que más relación tiene con _decile_score_ es _priors_count_, con un coeficiente de corrrelación del 0.5. Para el caso de los reincidentes violentos vemos que la variable _priors_count_ también está más relacionada con _v_decile_score_.\n",
    "\n",
    "Por lo que, vamos a desarrollar un modelo de regresión simple en el cual la variable dependiente será la estimación del riesgo del sistema COMPAS y la independiente, la veces que ha sido arrestado cada sujeto."
   ]
  },
  {
   "cell_type": "code",
   "execution_count": 24,
   "id": "21fb048f-ef0c-4cbd-9bc9-c01a92bccb7a",
   "metadata": {},
   "outputs": [],
   "source": [
    "from sklearn import linear_model"
   ]
  },
  {
   "cell_type": "code",
   "execution_count": 25,
   "id": "88111bdb-0c8f-4ea1-bb18-0e72a95f0af6",
   "metadata": {},
   "outputs": [],
   "source": [
    "X = df.priors_count"
   ]
  },
  {
   "cell_type": "code",
   "execution_count": 26,
   "id": "4c36cd30-be2f-47d9-8a11-182907ae2da4",
   "metadata": {},
   "outputs": [],
   "source": [
    "y = df.decile_score"
   ]
  },
  {
   "cell_type": "code",
   "execution_count": 27,
   "id": "36c9479f-9de1-473b-9561-48e66e50c383",
   "metadata": {},
   "outputs": [
    {
     "data": {
      "text/plain": [
       "<matplotlib.collections.PathCollection at 0x1dfe02896d0>"
      ]
     },
     "execution_count": 27,
     "metadata": {},
     "output_type": "execute_result"
    },
    {
     "data": {
      "image/png": "[encoded data removed]",
      "text/plain": [
       "<Figure size 432x288 with 1 Axes>"
      ]
     },
     "metadata": {
      "needs_background": "light"
     },
     "output_type": "display_data"
    }
   ],
   "source": [
    "plt.scatter(X,y)"
   ]
  },
  {
   "cell_type": "markdown",
   "id": "8a62f378-c7ef-4e12-9fb3-ed0dd867214e",
   "metadata": {},
   "source": [
    "Como vemos a simple vista en el gráfico, el error del modelo va a ser muy alto. Vamos a entrenarlo cogiendo una muestra de un 10% de los datos del dataset y ver qué sucede."
   ]
  },
  {
   "cell_type": "code",
   "execution_count": 28,
   "id": "366dffb2-699e-4bea-9624-b1e666f60380",
   "metadata": {},
   "outputs": [],
   "source": [
    "from sklearn.model_selection import train_test_split"
   ]
  },
  {
   "cell_type": "code",
   "execution_count": 29,
   "id": "c97ddc1f-9576-4113-a429-2f979b76f30a",
   "metadata": {},
   "outputs": [],
   "source": [
    "X_train, X_test, y_train, y_test = train_test_split (X,y,test_size=0.1 )"
   ]
  },
  {
   "cell_type": "code",
   "execution_count": 30,
   "id": "2e94a839-6b18-4790-9ef5-70b2daf498da",
   "metadata": {},
   "outputs": [],
   "source": [
    "X_train = np.array(X_train) \n",
    "X_train = X_train.reshape(-1, 1)\n",
    "\n",
    "X_test = np.array(X_test) \n",
    "X_test = X_test.reshape(-1, 1)\n"
   ]
  },
  {
   "cell_type": "code",
   "execution_count": 31,
   "id": "b977de40-07a5-4597-84a2-25f55e7fb819",
   "metadata": {},
   "outputs": [],
   "source": [
    "regresion= linear_model.LinearRegression(fit_intercept = True,  normalize=True)"
   ]
  },
  {
   "cell_type": "code",
   "execution_count": 32,
   "id": "401b183a-36c3-4ffb-b691-b2d297b7d91b",
   "metadata": {},
   "outputs": [
    {
     "data": {
      "text/plain": [
       "LinearRegression(normalize=True)"
      ]
     },
     "execution_count": 32,
     "metadata": {},
     "output_type": "execute_result"
    }
   ],
   "source": [
    "regresion.fit(X_train, y_train)"
   ]
  },
  {
   "cell_type": "code",
   "execution_count": 33,
   "id": "5c302947-f2e8-45eb-ba5f-bb7409e6ae43",
   "metadata": {},
   "outputs": [],
   "source": [
    "y_pred = regresion.predict(X_test)\n"
   ]
  },
  {
   "cell_type": "code",
   "execution_count": 34,
   "id": "f967a5cf-0f2b-4979-9264-f4d72194fac2",
   "metadata": {},
   "outputs": [
    {
     "data": {
      "text/plain": [
       "[<matplotlib.lines.Line2D at 0x1dfe0303f40>]"
      ]
     },
     "execution_count": 34,
     "metadata": {},
     "output_type": "execute_result"
    },
    {
     "data": {
      "image/png": "[encoded data removed]",
      "text/plain": [
       "<Figure size 432x288 with 1 Axes>"
      ]
     },
     "metadata": {
      "needs_background": "light"
     },
     "output_type": "display_data"
    }
   ],
   "source": [
    "plt.scatter(X_test, y_test)\n",
    "plt.plot(X_test, y_pred, color='r')"
   ]
  },
  {
   "cell_type": "markdown",
   "id": "9dec85eb-edcd-4f4a-9f03-230819f713ca",
   "metadata": {},
   "source": [
    "La ecuación del modelo es:\n"
   ]
  },
  {
   "cell_type": "code",
   "execution_count": 35,
   "id": "3e38d355-9789-4706-bd32-6bf506d01b2c",
   "metadata": {},
   "outputs": [
    {
     "name": "stdout",
     "output_type": "stream",
     "text": [
      "y=  [0.2624745] + x 3.5809622561506216\n"
     ]
    }
   ],
   "source": [
    "print('y= ', regresion.coef_, '+ x', regresion.intercept_)"
   ]
  },
  {
   "cell_type": "markdown",
   "id": "43ceaa7d-bc68-47d3-b53d-f4949f8de5e3",
   "metadata": {},
   "source": [
    "La precisión del modelo o R2 es la siguiente:"
   ]
  },
  {
   "cell_type": "code",
   "execution_count": 36,
   "id": "c855270e-15ff-41ab-a909-e379fbe8a6bf",
   "metadata": {},
   "outputs": [
    {
     "name": "stdout",
     "output_type": "stream",
     "text": [
      "0.1822132216747545\n"
     ]
    }
   ],
   "source": [
    "print(regresion.score(X_train, y_train))"
   ]
  },
  {
   "cell_type": "markdown",
   "id": "6240a70f-0089-48fc-8f62-c0c3733f66da",
   "metadata": {},
   "source": [
    "Como vemos no es la mejor variable para explicar el modelo ya que el valor del coeficiente de determinación es más proximo a 0 que a 1. Pero la precisión es 3 veces mayor que con la variable is_recid (afirmación hecha tras realizar el cambio en  la variable y obtener un valor de 0.06 del coeficiente)."
   ]
  },
  {
   "cell_type": "markdown",
   "id": "672ffc72-f976-4efd-8026-eacf776a39cd",
   "metadata": {},
   "source": [
    "### 3. El umbral para establecer medidas preventivas de la reincidencia es de 7 en adelante.\n",
    "\n",
    "#### Dado este umbral, generar una tabla de contingencia, explicando qué caso se considera como “positivo” (y, por lo tanto, cuáles son los errores de tipo I y los errores de tipo II)."
   ]
  },
  {
   "cell_type": "markdown",
   "id": "f139d6f0-cbd3-49a9-9738-6e790e516255",
   "metadata": {},
   "source": [
    "Vamos a ver primero el caso de los no violentos"
   ]
  },
  {
   "cell_type": "code",
   "execution_count": 37,
   "id": "deac2ff9-031c-40ae-8b73-5388d6d1384b",
   "metadata": {},
   "outputs": [
    {
     "data": {
      "text/html": [
       "<div>\n",
       "<style scoped>\n",
       "    .dataframe tbody tr th:only-of-type {\n",
       "        vertical-align: middle;\n",
       "    }\n",
       "\n",
       "    .dataframe tbody tr th {\n",
       "        vertical-align: top;\n",
       "    }\n",
       "\n",
       "    .dataframe thead th {\n",
       "        text-align: right;\n",
       "    }\n",
       "</style>\n",
       "<table border=\"1\" class=\"dataframe\">\n",
       "  <thead>\n",
       "    <tr style=\"text-align: right;\">\n",
       "      <th>Reales</th>\n",
       "      <th>False</th>\n",
       "      <th>True</th>\n",
       "    </tr>\n",
       "    <tr>\n",
       "      <th>Predichos</th>\n",
       "      <th></th>\n",
       "      <th></th>\n",
       "    </tr>\n",
       "  </thead>\n",
       "  <tbody>\n",
       "    <tr>\n",
       "      <th>False</th>\n",
       "      <td>6449</td>\n",
       "      <td>1605</td>\n",
       "    </tr>\n",
       "    <tr>\n",
       "      <th>True</th>\n",
       "      <td>2200</td>\n",
       "      <td>1503</td>\n",
       "    </tr>\n",
       "  </tbody>\n",
       "</table>\n",
       "</div>"
      ],
      "text/plain": [
       "Reales     False  True\n",
       "Predichos             \n",
       "False       6449  1605\n",
       "True        2200  1503"
      ]
     },
     "execution_count": 37,
     "metadata": {},
     "output_type": "execute_result"
    }
   ],
   "source": [
    "tabla_contingencia"
   ]
  },
  {
   "cell_type": "code",
   "execution_count": 38,
   "id": "d62a8291-292c-4da9-8e63-25ef3ef1fbce",
   "metadata": {},
   "outputs": [
    {
     "name": "stdout",
     "output_type": "stream",
     "text": [
      "Total calificados correctamente:  7952\n",
      "Total:  11757\n",
      "Pocentaje de calificados correctamente:  67.64\n",
      "Falsos positivos o ERROR tipo I 0.18712256528025856\n",
      "Falsos negativos o ERROR tipo II 0.13651441694309774\n"
     ]
    }
   ],
   "source": [
    "Positivos = 6449+1503\n",
    "Tot = 6449+1605+2200+1503\n",
    "porcent= round(Positivos/Tot*100,2)\n",
    "\n",
    "fP = 2200/Tot\n",
    "fN = 1605/Tot\n",
    "\n",
    "print('Total calificados correctamente: ',Positivos)\n",
    "print('Total: ', Tot)\n",
    "      \n",
    "print('Pocentaje de calificados correctamente: ', porcent)\n",
    "print('Falsos positivos o ERROR tipo I',fP)\n",
    "print('Falsos negativos o ERROR tipo II',fN)"
   ]
  },
  {
   "cell_type": "markdown",
   "id": "faeb2315-b2b8-41bc-b0fd-36bf3964f20c",
   "metadata": {},
   "source": [
    "Los casos positivos, es decir, aquellos que el programa ha clasificado correctamente son 7952 de un total de 11757 (67% de casos acertados). Por lo tanto tenemos un tercio de los casos considerados como error. Existen dos tipos de errores: los falsos positivos, siendo estos un 18% del total, y los falsos negativos, un 13% sobre el total de observaciones. "
   ]
  },
  {
   "cell_type": "markdown",
   "id": "5b85eac8-ee6b-4c99-ab2c-8015c3ff43c9",
   "metadata": {},
   "source": [
    "Ahora veamos que sucede para los casos violentos"
   ]
  },
  {
   "cell_type": "code",
   "execution_count": 39,
   "id": "9ffcebe7-1788-4b95-9eb2-dbf873de228a",
   "metadata": {},
   "outputs": [
    {
     "data": {
      "text/html": [
       "<div>\n",
       "<style scoped>\n",
       "    .dataframe tbody tr th:only-of-type {\n",
       "        vertical-align: middle;\n",
       "    }\n",
       "\n",
       "    .dataframe tbody tr th {\n",
       "        vertical-align: top;\n",
       "    }\n",
       "\n",
       "    .dataframe thead th {\n",
       "        text-align: right;\n",
       "    }\n",
       "</style>\n",
       "<table border=\"1\" class=\"dataframe\">\n",
       "  <thead>\n",
       "    <tr style=\"text-align: right;\">\n",
       "      <th>Reales</th>\n",
       "      <th>False</th>\n",
       "      <th>True</th>\n",
       "    </tr>\n",
       "    <tr>\n",
       "      <th>Predichos</th>\n",
       "      <th></th>\n",
       "      <th></th>\n",
       "    </tr>\n",
       "  </thead>\n",
       "  <tbody>\n",
       "    <tr>\n",
       "      <th>False</th>\n",
       "      <td>9359</td>\n",
       "      <td>1516</td>\n",
       "    </tr>\n",
       "    <tr>\n",
       "      <th>True</th>\n",
       "      <td>616</td>\n",
       "      <td>266</td>\n",
       "    </tr>\n",
       "  </tbody>\n",
       "</table>\n",
       "</div>"
      ],
      "text/plain": [
       "Reales     False  True\n",
       "Predichos             \n",
       "False       9359  1516\n",
       "True         616   266"
      ]
     },
     "execution_count": 39,
     "metadata": {},
     "output_type": "execute_result"
    }
   ],
   "source": [
    "tabla_contingencia2"
   ]
  },
  {
   "cell_type": "code",
   "execution_count": 40,
   "id": "e1f7dc1a-2358-4299-b7e3-80aec93e8090",
   "metadata": {},
   "outputs": [
    {
     "name": "stdout",
     "output_type": "stream",
     "text": [
      "Total calificados correctamente:  9625\n",
      "Total:  11757\n",
      "Pocentaje de calificados correctamente:  81.87\n",
      "Falsos positivos o ERROR tipo I 0.0523943182784724\n",
      "Falsos negativos o ERROR tipo II 0.12894445862039636\n"
     ]
    }
   ],
   "source": [
    "Positivos2 = 9359+266\n",
    "Tot2 = 9359+266+616+1516\n",
    "porcent2= round(Positivos2/Tot2*100,2)\n",
    "\n",
    "fP2 = 616/Tot2\n",
    "fN2 = 1516/Tot2\n",
    "\n",
    "print('Total calificados correctamente: ',Positivos2)\n",
    "print('Total: ', Tot2)\n",
    "      \n",
    "print('Pocentaje de calificados correctamente: ', porcent2)\n",
    "print('Falsos positivos o ERROR tipo I',fP2)\n",
    "print('Falsos negativos o ERROR tipo II',fN2)"
   ]
  },
  {
   "cell_type": "markdown",
   "id": "d538172f-279f-4651-9da7-dbab804bc236",
   "metadata": {},
   "source": [
    "Por parte de los casos violentos, el  porcentaje de acierto es mayor, superando este el 80%. Respecto a los errores cometidos por el programa tenemos un escaso 5% de falsos positivos y un 13% de falsos positivos. El modelo tiene una mayor capacidad de predicción para los casos violentos que para los no violentos. Aun asi, los errores cometidos en ambos casos son demasiado elevados para afirmar que el programa tiene una buen capacidad de previsión."
   ]
  },
  {
   "cell_type": "markdown",
   "id": "3682418f-43c3-4834-8e2c-449ef13bff38",
   "metadata": {},
   "source": [
    "### 4. El sistema asigna, de media, evaluaciones de riesgo más altas a los hombres que a las mujeres, y a las personas de raza afroamericana que a las de raza caucásica. Sin embargo, también las tasas de reincidencia son más altas para esos colectivos, aunque no está claro que la asignación de riesgo sea “justa” o no.\n",
    "\n",
    "#### Mostrar estas diferencias mediante representaciones gráficas y utilizarlas para analizar si la asignación de evaluaciones es justa o no.    "
   ]
  },
  {
   "cell_type": "markdown",
   "id": "70b3d4ed-105d-4e8d-977c-14c1de4678c6",
   "metadata": {},
   "source": [
    "Como vamos a utilizar el dataset con todos lo datos (df), vamos a eliminar los datos para los que la reincidencia toma valor -1 ya que hay una falta de información sobre los mismos."
   ]
  },
  {
   "cell_type": "code",
   "execution_count": 41,
   "id": "4800b21e-726a-47cd-9c97-0e69ad07c8fc",
   "metadata": {},
   "outputs": [],
   "source": [
    "df2 = df[df.is_recid!=-1].copy()\n"
   ]
  },
  {
   "cell_type": "markdown",
   "id": "f36c6859-7f38-49f5-8158-b255ba1a8450",
   "metadata": {},
   "source": [
    "Una vez limpio vamos a proceder a representar la frecuencia acumulada de la tasa de reincidencia frente a la evaluacion media del riesgo."
   ]
  },
  {
   "cell_type": "markdown",
   "id": "2485a19e-f017-4738-8b0a-a3ef1d364d1c",
   "metadata": {},
   "source": [
    "\n",
    "Vamos a crear un nuevo dataframe con las columnas que necesitamos. Estas son las siguientes:\n",
    "- La raza del sujeto\n",
    "- La evaluacion media de las columnas v_decile_score y decile_score\n",
    "- Un booleano que nos diga si el individuo es reincidente o no, adjudicando True para aquellos casosen los que is_violent_recid o is_recid tenga valor 1.\n",
    "\n",
    "Para ello vamos a crear las columnas que requieren calculos y después eliminar aquellas que no necesitamos."
   ]
  },
  {
   "cell_type": "code",
   "execution_count": 42,
   "id": "74265446-9fbd-4e0b-8ec3-12a23bd6ef11",
   "metadata": {},
   "outputs": [],
   "source": [
    "df3 = df2.copy()"
   ]
  },
  {
   "cell_type": "code",
   "execution_count": 43,
   "id": "55f88a9b-a152-476e-8662-11f3af6a65d1",
   "metadata": {},
   "outputs": [],
   "source": [
    "df3['score'] = (df3.v_decile_score + df3.decile_score)/2"
   ]
  },
  {
   "cell_type": "code",
   "execution_count": 44,
   "id": "f6beb6e8-f04a-46e4-b187-e8f64baf2aa0",
   "metadata": {},
   "outputs": [],
   "source": [
    "df3[\"recidivist\"] = df3.iloc[:,[7,9]].eq(1).any(axis=1) "
   ]
  },
  {
   "cell_type": "code",
   "execution_count": 45,
   "id": "62015288-246b-43da-be18-6bcb49dd3a97",
   "metadata": {},
   "outputs": [
    {
     "data": {
      "text/html": [
       "<div>\n",
       "<style scoped>\n",
       "    .dataframe tbody tr th:only-of-type {\n",
       "        vertical-align: middle;\n",
       "    }\n",
       "\n",
       "    .dataframe tbody tr th {\n",
       "        vertical-align: top;\n",
       "    }\n",
       "\n",
       "    .dataframe thead th {\n",
       "        text-align: right;\n",
       "    }\n",
       "</style>\n",
       "<table border=\"1\" class=\"dataframe\">\n",
       "  <thead>\n",
       "    <tr style=\"text-align: right;\">\n",
       "      <th></th>\n",
       "      <th>name</th>\n",
       "      <th>age</th>\n",
       "      <th>sex</th>\n",
       "      <th>race</th>\n",
       "      <th>compas_screening_date</th>\n",
       "      <th>decile_score</th>\n",
       "      <th>v_decile_score</th>\n",
       "      <th>is_recid</th>\n",
       "      <th>r_offense_date</th>\n",
       "      <th>is_violent_recid</th>\n",
       "      <th>vr_offense_date</th>\n",
       "      <th>priors_count</th>\n",
       "      <th>score</th>\n",
       "      <th>recidivist</th>\n",
       "    </tr>\n",
       "  </thead>\n",
       "  <tbody>\n",
       "    <tr>\n",
       "      <th>0</th>\n",
       "      <td>miguel hernandez</td>\n",
       "      <td>69</td>\n",
       "      <td>Male</td>\n",
       "      <td>Other</td>\n",
       "      <td>2013-08-14</td>\n",
       "      <td>1</td>\n",
       "      <td>1</td>\n",
       "      <td>0</td>\n",
       "      <td>NaN</td>\n",
       "      <td>0</td>\n",
       "      <td>NaN</td>\n",
       "      <td>0</td>\n",
       "      <td>1.0</td>\n",
       "      <td>False</td>\n",
       "    </tr>\n",
       "    <tr>\n",
       "      <th>2</th>\n",
       "      <td>kevon dixon</td>\n",
       "      <td>34</td>\n",
       "      <td>Male</td>\n",
       "      <td>African-American</td>\n",
       "      <td>2013-01-27</td>\n",
       "      <td>3</td>\n",
       "      <td>1</td>\n",
       "      <td>1</td>\n",
       "      <td>2013-07-05</td>\n",
       "      <td>1</td>\n",
       "      <td>2013-07-05</td>\n",
       "      <td>0</td>\n",
       "      <td>2.0</td>\n",
       "      <td>True</td>\n",
       "    </tr>\n",
       "    <tr>\n",
       "      <th>3</th>\n",
       "      <td>ed philo</td>\n",
       "      <td>24</td>\n",
       "      <td>Male</td>\n",
       "      <td>African-American</td>\n",
       "      <td>2013-04-14</td>\n",
       "      <td>4</td>\n",
       "      <td>3</td>\n",
       "      <td>1</td>\n",
       "      <td>2013-06-16</td>\n",
       "      <td>0</td>\n",
       "      <td>NaN</td>\n",
       "      <td>4</td>\n",
       "      <td>3.5</td>\n",
       "      <td>True</td>\n",
       "    </tr>\n",
       "    <tr>\n",
       "      <th>4</th>\n",
       "      <td>marcu brown</td>\n",
       "      <td>23</td>\n",
       "      <td>Male</td>\n",
       "      <td>African-American</td>\n",
       "      <td>2013-01-13</td>\n",
       "      <td>8</td>\n",
       "      <td>6</td>\n",
       "      <td>0</td>\n",
       "      <td>NaN</td>\n",
       "      <td>0</td>\n",
       "      <td>NaN</td>\n",
       "      <td>1</td>\n",
       "      <td>7.0</td>\n",
       "      <td>False</td>\n",
       "    </tr>\n",
       "    <tr>\n",
       "      <th>5</th>\n",
       "      <td>bouthy pierrelouis</td>\n",
       "      <td>43</td>\n",
       "      <td>Male</td>\n",
       "      <td>Other</td>\n",
       "      <td>2013-03-26</td>\n",
       "      <td>1</td>\n",
       "      <td>1</td>\n",
       "      <td>0</td>\n",
       "      <td>NaN</td>\n",
       "      <td>0</td>\n",
       "      <td>NaN</td>\n",
       "      <td>2</td>\n",
       "      <td>1.0</td>\n",
       "      <td>False</td>\n",
       "    </tr>\n",
       "  </tbody>\n",
       "</table>\n",
       "</div>"
      ],
      "text/plain": [
       "                 name  age   sex              race compas_screening_date  \\\n",
       "0    miguel hernandez   69  Male             Other            2013-08-14   \n",
       "2         kevon dixon   34  Male  African-American            2013-01-27   \n",
       "3            ed philo   24  Male  African-American            2013-04-14   \n",
       "4         marcu brown   23  Male  African-American            2013-01-13   \n",
       "5  bouthy pierrelouis   43  Male             Other            2013-03-26   \n",
       "\n",
       "   decile_score  v_decile_score  is_recid r_offense_date  is_violent_recid  \\\n",
       "0             1               1         0            NaN                 0   \n",
       "2             3               1         1     2013-07-05                 1   \n",
       "3             4               3         1     2013-06-16                 0   \n",
       "4             8               6         0            NaN                 0   \n",
       "5             1               1         0            NaN                 0   \n",
       "\n",
       "  vr_offense_date  priors_count  score  recidivist  \n",
       "0             NaN             0    1.0       False  \n",
       "2      2013-07-05             0    2.0        True  \n",
       "3             NaN             4    3.5        True  \n",
       "4             NaN             1    7.0       False  \n",
       "5             NaN             2    1.0       False  "
      ]
     },
     "execution_count": 45,
     "metadata": {},
     "output_type": "execute_result"
    }
   ],
   "source": [
    "df3.head()"
   ]
  },
  {
   "cell_type": "code",
   "execution_count": 46,
   "id": "33e38e68-00bb-43ba-8806-86e9df3035b1",
   "metadata": {},
   "outputs": [],
   "source": [
    "columns = df3.iloc[:,[0,1,2,4,5,6,7,8,9,10,11]]\n",
    "df_race=df3.drop(columns,axis=1).copy()"
   ]
  },
  {
   "cell_type": "code",
   "execution_count": 47,
   "id": "deee4107-329d-4853-a9fa-850446fffac0",
   "metadata": {
    "jp-MarkdownHeadingCollapsed": true,
    "tags": []
   },
   "outputs": [
    {
     "data": {
      "text/html": [
       "<div>\n",
       "<style scoped>\n",
       "    .dataframe tbody tr th:only-of-type {\n",
       "        vertical-align: middle;\n",
       "    }\n",
       "\n",
       "    .dataframe tbody tr th {\n",
       "        vertical-align: top;\n",
       "    }\n",
       "\n",
       "    .dataframe thead th {\n",
       "        text-align: right;\n",
       "    }\n",
       "</style>\n",
       "<table border=\"1\" class=\"dataframe\">\n",
       "  <thead>\n",
       "    <tr style=\"text-align: right;\">\n",
       "      <th></th>\n",
       "      <th>race</th>\n",
       "      <th>score</th>\n",
       "      <th>recidivist</th>\n",
       "    </tr>\n",
       "  </thead>\n",
       "  <tbody>\n",
       "    <tr>\n",
       "      <th>0</th>\n",
       "      <td>Other</td>\n",
       "      <td>1.0</td>\n",
       "      <td>False</td>\n",
       "    </tr>\n",
       "    <tr>\n",
       "      <th>2</th>\n",
       "      <td>African-American</td>\n",
       "      <td>2.0</td>\n",
       "      <td>True</td>\n",
       "    </tr>\n",
       "    <tr>\n",
       "      <th>3</th>\n",
       "      <td>African-American</td>\n",
       "      <td>3.5</td>\n",
       "      <td>True</td>\n",
       "    </tr>\n",
       "    <tr>\n",
       "      <th>4</th>\n",
       "      <td>African-American</td>\n",
       "      <td>7.0</td>\n",
       "      <td>False</td>\n",
       "    </tr>\n",
       "    <tr>\n",
       "      <th>5</th>\n",
       "      <td>Other</td>\n",
       "      <td>1.0</td>\n",
       "      <td>False</td>\n",
       "    </tr>\n",
       "    <tr>\n",
       "      <th>...</th>\n",
       "      <td>...</td>\n",
       "      <td>...</td>\n",
       "      <td>...</td>\n",
       "    </tr>\n",
       "    <tr>\n",
       "      <th>11752</th>\n",
       "      <td>Other</td>\n",
       "      <td>2.0</td>\n",
       "      <td>False</td>\n",
       "    </tr>\n",
       "    <tr>\n",
       "      <th>11753</th>\n",
       "      <td>Caucasian</td>\n",
       "      <td>6.0</td>\n",
       "      <td>True</td>\n",
       "    </tr>\n",
       "    <tr>\n",
       "      <th>11754</th>\n",
       "      <td>Other</td>\n",
       "      <td>3.5</td>\n",
       "      <td>False</td>\n",
       "    </tr>\n",
       "    <tr>\n",
       "      <th>11755</th>\n",
       "      <td>Caucasian</td>\n",
       "      <td>2.5</td>\n",
       "      <td>False</td>\n",
       "    </tr>\n",
       "    <tr>\n",
       "      <th>11756</th>\n",
       "      <td>Asian</td>\n",
       "      <td>1.0</td>\n",
       "      <td>False</td>\n",
       "    </tr>\n",
       "  </tbody>\n",
       "</table>\n",
       "<p>11038 rows × 3 columns</p>\n",
       "</div>"
      ],
      "text/plain": [
       "                   race  score  recidivist\n",
       "0                 Other    1.0       False\n",
       "2      African-American    2.0        True\n",
       "3      African-American    3.5        True\n",
       "4      African-American    7.0       False\n",
       "5                 Other    1.0       False\n",
       "...                 ...    ...         ...\n",
       "11752             Other    2.0       False\n",
       "11753         Caucasian    6.0        True\n",
       "11754             Other    3.5       False\n",
       "11755         Caucasian    2.5       False\n",
       "11756             Asian    1.0       False\n",
       "\n",
       "[11038 rows x 3 columns]"
      ]
     },
     "execution_count": 47,
     "metadata": {},
     "output_type": "execute_result"
    }
   ],
   "source": [
    "df_race"
   ]
  },
  {
   "cell_type": "code",
   "execution_count": 48,
   "id": "64e492b5-9879-4b37-aa13-7188d68b3152",
   "metadata": {},
   "outputs": [
    {
     "data": {
      "text/plain": [
       "array(['Other', 'African-American', 'Caucasian', 'Hispanic', 'Asian',\n",
       "       'Native American'], dtype=object)"
      ]
     },
     "execution_count": 48,
     "metadata": {},
     "output_type": "execute_result"
    }
   ],
   "source": [
    "df_race.race.unique()"
   ]
  },
  {
   "cell_type": "code",
   "execution_count": 49,
   "id": "7d9d0c58-6af8-4086-80bc-08aa751a90da",
   "metadata": {},
   "outputs": [
    {
     "data": {
      "text/plain": [
       "array([ 1. ,  2. ,  3.5,  7. ,  4. ,  9.5,  5. ,  3. ,  2.5,  4.5,  9. ,\n",
       "        1.5,  8. ,  5.5,  7.5,  6.5,  6. , 10. ,  8.5, -1. ,  0. ])"
      ]
     },
     "execution_count": 49,
     "metadata": {},
     "output_type": "execute_result"
    }
   ],
   "source": [
    "df_race.score.unique()"
   ]
  },
  {
   "cell_type": "markdown",
   "id": "6ca4fddb-0d90-4c42-ba45-54cc9c6af4b5",
   "metadata": {},
   "source": [
    "Como podemos ver obtenemos puntuaciones medias inferiores a 1. Siendo la mínima puntuación 1, este es el menor valor posible, por lo que procedemos a eliminar los valores inferiores a 1 del dataset   "
   ]
  },
  {
   "cell_type": "code",
   "execution_count": 50,
   "id": "925c3391-dd10-4d8a-86b8-4414d3baeaf9",
   "metadata": {},
   "outputs": [],
   "source": [
    "df_race_1=df_race[df_race.score>=1].copy()"
   ]
  },
  {
   "cell_type": "code",
   "execution_count": 51,
   "id": "5b36e2ff-ba21-44ab-a838-39d08b401807",
   "metadata": {},
   "outputs": [
    {
     "data": {
      "text/plain": [
       "6"
      ]
     },
     "execution_count": 51,
     "metadata": {},
     "output_type": "execute_result"
    }
   ],
   "source": [
    "a=len(df_race_1.race.unique())\n",
    "a"
   ]
  },
  {
   "cell_type": "code",
   "execution_count": 52,
   "id": "2917bd6b-5698-4b9a-9caa-73b43696b209",
   "metadata": {},
   "outputs": [
    {
     "data": {
      "text/html": [
       "<div>\n",
       "<style scoped>\n",
       "    .dataframe tbody tr th:only-of-type {\n",
       "        vertical-align: middle;\n",
       "    }\n",
       "\n",
       "    .dataframe tbody tr th {\n",
       "        vertical-align: top;\n",
       "    }\n",
       "\n",
       "    .dataframe thead th {\n",
       "        text-align: right;\n",
       "    }\n",
       "</style>\n",
       "<table border=\"1\" class=\"dataframe\">\n",
       "  <thead>\n",
       "    <tr style=\"text-align: right;\">\n",
       "      <th></th>\n",
       "      <th>race</th>\n",
       "      <th>score</th>\n",
       "      <th>recidivist</th>\n",
       "    </tr>\n",
       "  </thead>\n",
       "  <tbody>\n",
       "    <tr>\n",
       "      <th>0</th>\n",
       "      <td>Other</td>\n",
       "      <td>1.0</td>\n",
       "      <td>False</td>\n",
       "    </tr>\n",
       "    <tr>\n",
       "      <th>4</th>\n",
       "      <td>African-American</td>\n",
       "      <td>7.0</td>\n",
       "      <td>False</td>\n",
       "    </tr>\n",
       "    <tr>\n",
       "      <th>5</th>\n",
       "      <td>Other</td>\n",
       "      <td>1.0</td>\n",
       "      <td>False</td>\n",
       "    </tr>\n",
       "    <tr>\n",
       "      <th>6</th>\n",
       "      <td>Other</td>\n",
       "      <td>1.0</td>\n",
       "      <td>False</td>\n",
       "    </tr>\n",
       "    <tr>\n",
       "      <th>8</th>\n",
       "      <td>Other</td>\n",
       "      <td>3.5</td>\n",
       "      <td>False</td>\n",
       "    </tr>\n",
       "    <tr>\n",
       "      <th>...</th>\n",
       "      <td>...</td>\n",
       "      <td>...</td>\n",
       "      <td>...</td>\n",
       "    </tr>\n",
       "    <tr>\n",
       "      <th>11750</th>\n",
       "      <td>Hispanic</td>\n",
       "      <td>1.0</td>\n",
       "      <td>False</td>\n",
       "    </tr>\n",
       "    <tr>\n",
       "      <th>11752</th>\n",
       "      <td>Other</td>\n",
       "      <td>2.0</td>\n",
       "      <td>False</td>\n",
       "    </tr>\n",
       "    <tr>\n",
       "      <th>11754</th>\n",
       "      <td>Other</td>\n",
       "      <td>3.5</td>\n",
       "      <td>False</td>\n",
       "    </tr>\n",
       "    <tr>\n",
       "      <th>11755</th>\n",
       "      <td>Caucasian</td>\n",
       "      <td>2.5</td>\n",
       "      <td>False</td>\n",
       "    </tr>\n",
       "    <tr>\n",
       "      <th>11756</th>\n",
       "      <td>Asian</td>\n",
       "      <td>1.0</td>\n",
       "      <td>False</td>\n",
       "    </tr>\n",
       "  </tbody>\n",
       "</table>\n",
       "<p>7328 rows × 3 columns</p>\n",
       "</div>"
      ],
      "text/plain": [
       "                   race  score  recidivist\n",
       "0                 Other    1.0       False\n",
       "4      African-American    7.0       False\n",
       "5                 Other    1.0       False\n",
       "6                 Other    1.0       False\n",
       "8                 Other    3.5       False\n",
       "...                 ...    ...         ...\n",
       "11750          Hispanic    1.0       False\n",
       "11752             Other    2.0       False\n",
       "11754             Other    3.5       False\n",
       "11755         Caucasian    2.5       False\n",
       "11756             Asian    1.0       False\n",
       "\n",
       "[7328 rows x 3 columns]"
      ]
     },
     "execution_count": 52,
     "metadata": {},
     "output_type": "execute_result"
    }
   ],
   "source": [
    "# Dividir DF en true or false\n",
    "\n",
    "m = df_race_1.recidivist==True\n",
    "\n",
    "df_race_false = df_race_1[~m]\n",
    "df_race_true = df_race_1[m]\n",
    "\n",
    "df_race_false \n"
   ]
  },
  {
   "cell_type": "code",
   "execution_count": 53,
   "id": "f8a8acf9-7d1d-4014-a8c3-f5962bc38128",
   "metadata": {},
   "outputs": [
    {
     "data": {
      "text/html": [
       "<div>\n",
       "<style scoped>\n",
       "    .dataframe tbody tr th:only-of-type {\n",
       "        vertical-align: middle;\n",
       "    }\n",
       "\n",
       "    .dataframe tbody tr th {\n",
       "        vertical-align: top;\n",
       "    }\n",
       "\n",
       "    .dataframe thead th {\n",
       "        text-align: right;\n",
       "    }\n",
       "</style>\n",
       "<table border=\"1\" class=\"dataframe\">\n",
       "  <thead>\n",
       "    <tr style=\"text-align: right;\">\n",
       "      <th></th>\n",
       "      <th>race</th>\n",
       "      <th>score</th>\n",
       "      <th>recidivist</th>\n",
       "    </tr>\n",
       "  </thead>\n",
       "  <tbody>\n",
       "    <tr>\n",
       "      <th>2</th>\n",
       "      <td>African-American</td>\n",
       "      <td>2.0</td>\n",
       "      <td>True</td>\n",
       "    </tr>\n",
       "    <tr>\n",
       "      <th>3</th>\n",
       "      <td>African-American</td>\n",
       "      <td>3.5</td>\n",
       "      <td>True</td>\n",
       "    </tr>\n",
       "    <tr>\n",
       "      <th>7</th>\n",
       "      <td>Caucasian</td>\n",
       "      <td>4.0</td>\n",
       "      <td>True</td>\n",
       "    </tr>\n",
       "    <tr>\n",
       "      <th>12</th>\n",
       "      <td>Caucasian</td>\n",
       "      <td>4.0</td>\n",
       "      <td>True</td>\n",
       "    </tr>\n",
       "    <tr>\n",
       "      <th>14</th>\n",
       "      <td>African-American</td>\n",
       "      <td>5.0</td>\n",
       "      <td>True</td>\n",
       "    </tr>\n",
       "    <tr>\n",
       "      <th>...</th>\n",
       "      <td>...</td>\n",
       "      <td>...</td>\n",
       "      <td>...</td>\n",
       "    </tr>\n",
       "    <tr>\n",
       "      <th>11738</th>\n",
       "      <td>Caucasian</td>\n",
       "      <td>4.0</td>\n",
       "      <td>True</td>\n",
       "    </tr>\n",
       "    <tr>\n",
       "      <th>11743</th>\n",
       "      <td>Caucasian</td>\n",
       "      <td>1.5</td>\n",
       "      <td>True</td>\n",
       "    </tr>\n",
       "    <tr>\n",
       "      <th>11746</th>\n",
       "      <td>African-American</td>\n",
       "      <td>4.5</td>\n",
       "      <td>True</td>\n",
       "    </tr>\n",
       "    <tr>\n",
       "      <th>11751</th>\n",
       "      <td>African-American</td>\n",
       "      <td>1.0</td>\n",
       "      <td>True</td>\n",
       "    </tr>\n",
       "    <tr>\n",
       "      <th>11753</th>\n",
       "      <td>Caucasian</td>\n",
       "      <td>6.0</td>\n",
       "      <td>True</td>\n",
       "    </tr>\n",
       "  </tbody>\n",
       "</table>\n",
       "<p>3703 rows × 3 columns</p>\n",
       "</div>"
      ],
      "text/plain": [
       "                   race  score  recidivist\n",
       "2      African-American    2.0        True\n",
       "3      African-American    3.5        True\n",
       "7             Caucasian    4.0        True\n",
       "12            Caucasian    4.0        True\n",
       "14     African-American    5.0        True\n",
       "...                 ...    ...         ...\n",
       "11738         Caucasian    4.0        True\n",
       "11743         Caucasian    1.5        True\n",
       "11746  African-American    4.5        True\n",
       "11751  African-American    1.0        True\n",
       "11753         Caucasian    6.0        True\n",
       "\n",
       "[3703 rows x 3 columns]"
      ]
     },
     "execution_count": 53,
     "metadata": {},
     "output_type": "execute_result"
    }
   ],
   "source": [
    "df_race_true"
   ]
  },
  {
   "cell_type": "code",
   "execution_count": 54,
   "id": "8d694523-be14-4c0b-9b80-dc7834e6f8bf",
   "metadata": {},
   "outputs": [
    {
     "data": {
      "text/plain": [
       "race\n",
       "African-American    4.311673\n",
       "Asian               1.952381\n",
       "Caucasian           2.901468\n",
       "Hispanic            2.813503\n",
       "Native American     3.086957\n",
       "Other               2.389485\n",
       "Name: score, dtype: float64"
      ]
     },
     "execution_count": 54,
     "metadata": {},
     "output_type": "execute_result"
    }
   ],
   "source": [
    "#Agrupamos por la media del score ambos datasets\n",
    "\n",
    "b=df_race_false.groupby(['race']).mean()['score']\n",
    "b"
   ]
  },
  {
   "cell_type": "code",
   "execution_count": 55,
   "id": "af410ba4-fd18-49c3-860c-1028fec2a9fd",
   "metadata": {},
   "outputs": [
    {
     "data": {
      "text/plain": [
       "race\n",
       "African-American    5.631034\n",
       "Asian               4.636364\n",
       "Caucasian           4.153352\n",
       "Hispanic            4.070881\n",
       "Native American     6.538462\n",
       "Other               3.827922\n",
       "Name: score, dtype: float64"
      ]
     },
     "execution_count": 55,
     "metadata": {},
     "output_type": "execute_result"
    }
   ],
   "source": [
    "c=df_race_true.groupby(['race']).mean()['score']\n",
    "c"
   ]
  },
  {
   "cell_type": "code",
   "execution_count": 56,
   "id": "04038f92-a81c-41bd-bd6a-5b5ceeb37f2c",
   "metadata": {},
   "outputs": [
    {
     "data": {
      "text/plain": [
       "race\n",
       "African-American    3324\n",
       "Asian                 42\n",
       "Caucasian           2725\n",
       "Hispanic             748\n",
       "Native American       23\n",
       "Other                466\n",
       "Name: recidivist, dtype: int64"
      ]
     },
     "execution_count": 56,
     "metadata": {},
     "output_type": "execute_result"
    }
   ],
   "source": [
    "# Calculamos la frecunecia acumulada de casos que son reincidentes\n",
    "\n",
    "s=df_race_false.groupby(['race']).count()['recidivist']\n",
    "s"
   ]
  },
  {
   "cell_type": "code",
   "execution_count": 57,
   "id": "75c72204-72ad-4585-9802-dd2e84e195c2",
   "metadata": {},
   "outputs": [
    {
     "data": {
      "text/plain": [
       "race\n",
       "African-American    2175\n",
       "Asian                 11\n",
       "Caucasian           1089\n",
       "Hispanic             261\n",
       "Native American       13\n",
       "Other                154\n",
       "Name: recidivist, dtype: int64"
      ]
     },
     "execution_count": 57,
     "metadata": {},
     "output_type": "execute_result"
    }
   ],
   "source": [
    "t=df_race_true.groupby(['race']).count()['recidivist']\n",
    "t"
   ]
  },
  {
   "cell_type": "code",
   "execution_count": 58,
   "id": "b89b4d53-112b-4666-8d72-3238d25c4f38",
   "metadata": {},
   "outputs": [],
   "source": [
    "x=np.arange(6)"
   ]
  },
  {
   "cell_type": "code",
   "execution_count": 59,
   "id": "70b96462-41fe-4c65-b66b-0d639d5eea89",
   "metadata": {},
   "outputs": [
    {
     "data": {
      "image/png": "[encoded data removed]",
      "text/plain": [
       "<Figure size 432x288 with 1 Axes>"
      ]
     },
     "metadata": {
      "needs_background": "light"
     },
     "output_type": "display_data"
    },
    {
     "data": {
      "image/png": "[encoded data removed]",
      "text/plain": [
       "<Figure size 432x288 with 1 Axes>"
      ]
     },
     "metadata": {
      "needs_background": "light"
     },
     "output_type": "display_data"
    }
   ],
   "source": [
    "\n",
    "plt.bar(x-0.1, b, width=0.2, label='False')\n",
    "plt.bar(x+0.1 ,c ,width=0.2, label='True')\n",
    "\n",
    "plt.xticks(x,['African-American', 'Asian','Caucasian', 'Hispanic', 'Native American','Other'],rotation = 50)\n",
    "\n",
    "plt.title('EVALUACIÓN DE RIESGO MEDIA POR RAZAS')\n",
    "plt.ylabel('Score mean')\n",
    "plt.xlabel('Race')\n",
    "\n",
    "plt.legend(loc='best')\n",
    "\n",
    "plt.show()\n",
    "\n",
    "\n",
    "plt.bar(x-0.1, s, width=0.2, label='False')\n",
    "plt.bar(x+0.1 ,t ,width=0.2, label='True')\n",
    "\n",
    "plt.xticks(x,['African-American', 'Asian','Caucasian', 'Hispanic', 'Native American','Other'],rotation = 50)\n",
    "\n",
    "plt.title('CASOS TOTALES DE REINCIDENTES Y NO REINCIDENTES POR RAZA')\n",
    "plt.ylabel('Frecuency')\n",
    "plt.xlabel('Race')\n",
    "\n",
    "plt.legend(loc='best')\n",
    "\n",
    "plt.show()\n",
    "\n"
   ]
  },
  {
   "cell_type": "markdown",
   "id": "3b9d97f7-b4c9-43f5-a138-f1ed2f669ef0",
   "metadata": {},
   "source": [
    "En el enunciado se afirma que la evalución de riesgo que da el sistema es mayor para personas de raza afroamericanas que caucásicas y, a mayores, la tasa de reincidencia es mayor para los afroamericanos que los caucásicos . Analicemos esta afirmación con los dos gráficos anteriores. \n",
    "\n",
    "En primer lugar, la evaluación media, tanto para los casos que son verdaderamente reincidentes (true/naranja) como para los que no lo son (false/azul), es considerablemente mayor para el grupo de afroamericanos, 5.6 y 4.31, respectivamente, que para los caucásicos, 4.15 y 2.9. La diferencia es de en torno a 1.5 puntos. Por lo que la primera parte de la afirmación es correcta, los afroamericanos tienen de media mayores puntuaciones que los caucasicos.\n",
    "\n",
    "A continuación, analicemos los casos que son efectivamente reincidentes en cada grupo. Para los afroamericanos tenemos que el 60% * de los casos no son reincidentes frente a un 70% ** de los caucasicos. Por lo que, la tasa de reincidencia es un 10% mayor para los afroamericanos que para los caucasicos. En definitiva, la afirmación realizada es verdadera.\n",
    "\n",
    "En conclusión, poniendo ambos datos en porcentaje, obtenemos que los africamericanos obtienen un 15% más de asignación de riesgo por el sistema, pero a su vez, la reincidencia en delitos es un 10% superior que el otro grupo. Por lo que, podemos decir que el 5% que difiere se puede deber a un error y no a una injusta calificación por parte del sistema COMPAS.\n",
    "\n",
    "*Calculo realizado: 3324 * 100 / 5499 \n",
    "\n",
    "**Calculo realizado: 2725 * 100 / 3814 "
   ]
  },
  {
   "cell_type": "markdown",
   "id": "eb881473-f51b-4826-a67a-92576c212a6d",
   "metadata": {},
   "source": [
    "Vamos a ver ahora dependiendo del sexo del sujeto."
   ]
  },
  {
   "cell_type": "code",
   "execution_count": 60,
   "id": "d80b534f-91b6-4b98-86ea-fcb5b32eda1a",
   "metadata": {},
   "outputs": [],
   "source": [
    "columns1 = df3.iloc[:,[0,1,3,4,5,6,7,8,9,10,11]]\n",
    "df_sex=df3.drop(columns1,axis=1).copy()"
   ]
  },
  {
   "cell_type": "code",
   "execution_count": 61,
   "id": "ef38d203-bf62-4920-bf4f-fffe13d45d5c",
   "metadata": {},
   "outputs": [
    {
     "data": {
      "text/html": [
       "<div>\n",
       "<style scoped>\n",
       "    .dataframe tbody tr th:only-of-type {\n",
       "        vertical-align: middle;\n",
       "    }\n",
       "\n",
       "    .dataframe tbody tr th {\n",
       "        vertical-align: top;\n",
       "    }\n",
       "\n",
       "    .dataframe thead th {\n",
       "        text-align: right;\n",
       "    }\n",
       "</style>\n",
       "<table border=\"1\" class=\"dataframe\">\n",
       "  <thead>\n",
       "    <tr style=\"text-align: right;\">\n",
       "      <th></th>\n",
       "      <th>sex</th>\n",
       "      <th>score</th>\n",
       "      <th>recidivist</th>\n",
       "    </tr>\n",
       "  </thead>\n",
       "  <tbody>\n",
       "    <tr>\n",
       "      <th>0</th>\n",
       "      <td>Male</td>\n",
       "      <td>1.0</td>\n",
       "      <td>False</td>\n",
       "    </tr>\n",
       "    <tr>\n",
       "      <th>2</th>\n",
       "      <td>Male</td>\n",
       "      <td>2.0</td>\n",
       "      <td>True</td>\n",
       "    </tr>\n",
       "    <tr>\n",
       "      <th>3</th>\n",
       "      <td>Male</td>\n",
       "      <td>3.5</td>\n",
       "      <td>True</td>\n",
       "    </tr>\n",
       "    <tr>\n",
       "      <th>4</th>\n",
       "      <td>Male</td>\n",
       "      <td>7.0</td>\n",
       "      <td>False</td>\n",
       "    </tr>\n",
       "    <tr>\n",
       "      <th>5</th>\n",
       "      <td>Male</td>\n",
       "      <td>1.0</td>\n",
       "      <td>False</td>\n",
       "    </tr>\n",
       "  </tbody>\n",
       "</table>\n",
       "</div>"
      ],
      "text/plain": [
       "    sex  score  recidivist\n",
       "0  Male    1.0       False\n",
       "2  Male    2.0        True\n",
       "3  Male    3.5        True\n",
       "4  Male    7.0       False\n",
       "5  Male    1.0       False"
      ]
     },
     "execution_count": 61,
     "metadata": {},
     "output_type": "execute_result"
    }
   ],
   "source": [
    "df_sex.head()"
   ]
  },
  {
   "cell_type": "code",
   "execution_count": 62,
   "id": "cec01f08-610c-419e-a249-3ddd89c5f354",
   "metadata": {},
   "outputs": [
    {
     "data": {
      "text/html": [
       "<div>\n",
       "<style scoped>\n",
       "    .dataframe tbody tr th:only-of-type {\n",
       "        vertical-align: middle;\n",
       "    }\n",
       "\n",
       "    .dataframe tbody tr th {\n",
       "        vertical-align: top;\n",
       "    }\n",
       "\n",
       "    .dataframe thead th {\n",
       "        text-align: right;\n",
       "    }\n",
       "</style>\n",
       "<table border=\"1\" class=\"dataframe\">\n",
       "  <thead>\n",
       "    <tr style=\"text-align: right;\">\n",
       "      <th></th>\n",
       "      <th>sex</th>\n",
       "      <th>score</th>\n",
       "      <th>recidivist</th>\n",
       "    </tr>\n",
       "  </thead>\n",
       "  <tbody>\n",
       "    <tr>\n",
       "      <th>0</th>\n",
       "      <td>Male</td>\n",
       "      <td>1.0</td>\n",
       "      <td>False</td>\n",
       "    </tr>\n",
       "    <tr>\n",
       "      <th>4</th>\n",
       "      <td>Male</td>\n",
       "      <td>7.0</td>\n",
       "      <td>False</td>\n",
       "    </tr>\n",
       "    <tr>\n",
       "      <th>5</th>\n",
       "      <td>Male</td>\n",
       "      <td>1.0</td>\n",
       "      <td>False</td>\n",
       "    </tr>\n",
       "    <tr>\n",
       "      <th>6</th>\n",
       "      <td>Male</td>\n",
       "      <td>1.0</td>\n",
       "      <td>False</td>\n",
       "    </tr>\n",
       "    <tr>\n",
       "      <th>8</th>\n",
       "      <td>Male</td>\n",
       "      <td>3.5</td>\n",
       "      <td>False</td>\n",
       "    </tr>\n",
       "    <tr>\n",
       "      <th>...</th>\n",
       "      <td>...</td>\n",
       "      <td>...</td>\n",
       "      <td>...</td>\n",
       "    </tr>\n",
       "    <tr>\n",
       "      <th>11750</th>\n",
       "      <td>Male</td>\n",
       "      <td>1.0</td>\n",
       "      <td>False</td>\n",
       "    </tr>\n",
       "    <tr>\n",
       "      <th>11752</th>\n",
       "      <td>Male</td>\n",
       "      <td>2.0</td>\n",
       "      <td>False</td>\n",
       "    </tr>\n",
       "    <tr>\n",
       "      <th>11754</th>\n",
       "      <td>Male</td>\n",
       "      <td>3.5</td>\n",
       "      <td>False</td>\n",
       "    </tr>\n",
       "    <tr>\n",
       "      <th>11755</th>\n",
       "      <td>Male</td>\n",
       "      <td>2.5</td>\n",
       "      <td>False</td>\n",
       "    </tr>\n",
       "    <tr>\n",
       "      <th>11756</th>\n",
       "      <td>Male</td>\n",
       "      <td>1.0</td>\n",
       "      <td>False</td>\n",
       "    </tr>\n",
       "  </tbody>\n",
       "</table>\n",
       "<p>7335 rows × 3 columns</p>\n",
       "</div>"
      ],
      "text/plain": [
       "        sex  score  recidivist\n",
       "0      Male    1.0       False\n",
       "4      Male    7.0       False\n",
       "5      Male    1.0       False\n",
       "6      Male    1.0       False\n",
       "8      Male    3.5       False\n",
       "...     ...    ...         ...\n",
       "11750  Male    1.0       False\n",
       "11752  Male    2.0       False\n",
       "11754  Male    3.5       False\n",
       "11755  Male    2.5       False\n",
       "11756  Male    1.0       False\n",
       "\n",
       "[7335 rows x 3 columns]"
      ]
     },
     "execution_count": 62,
     "metadata": {},
     "output_type": "execute_result"
    }
   ],
   "source": [
    "# Dividir DF en true or false\n",
    "\n",
    "m = df_sex.recidivist==True\n",
    "\n",
    "df_sex_false = df_sex[~m]\n",
    "df_sex_true = df_sex[m]\n",
    "\n",
    "df_sex_false \n"
   ]
  },
  {
   "cell_type": "code",
   "execution_count": 63,
   "id": "810991a6-8f7f-4478-aa61-df145e0a75be",
   "metadata": {},
   "outputs": [
    {
     "data": {
      "text/html": [
       "<div>\n",
       "<style scoped>\n",
       "    .dataframe tbody tr th:only-of-type {\n",
       "        vertical-align: middle;\n",
       "    }\n",
       "\n",
       "    .dataframe tbody tr th {\n",
       "        vertical-align: top;\n",
       "    }\n",
       "\n",
       "    .dataframe thead th {\n",
       "        text-align: right;\n",
       "    }\n",
       "</style>\n",
       "<table border=\"1\" class=\"dataframe\">\n",
       "  <thead>\n",
       "    <tr style=\"text-align: right;\">\n",
       "      <th></th>\n",
       "      <th>sex</th>\n",
       "      <th>score</th>\n",
       "      <th>recidivist</th>\n",
       "    </tr>\n",
       "  </thead>\n",
       "  <tbody>\n",
       "    <tr>\n",
       "      <th>2</th>\n",
       "      <td>Male</td>\n",
       "      <td>2.0</td>\n",
       "      <td>True</td>\n",
       "    </tr>\n",
       "    <tr>\n",
       "      <th>3</th>\n",
       "      <td>Male</td>\n",
       "      <td>3.5</td>\n",
       "      <td>True</td>\n",
       "    </tr>\n",
       "    <tr>\n",
       "      <th>7</th>\n",
       "      <td>Male</td>\n",
       "      <td>4.0</td>\n",
       "      <td>True</td>\n",
       "    </tr>\n",
       "    <tr>\n",
       "      <th>12</th>\n",
       "      <td>Male</td>\n",
       "      <td>4.0</td>\n",
       "      <td>True</td>\n",
       "    </tr>\n",
       "    <tr>\n",
       "      <th>14</th>\n",
       "      <td>Male</td>\n",
       "      <td>5.0</td>\n",
       "      <td>True</td>\n",
       "    </tr>\n",
       "    <tr>\n",
       "      <th>...</th>\n",
       "      <td>...</td>\n",
       "      <td>...</td>\n",
       "      <td>...</td>\n",
       "    </tr>\n",
       "    <tr>\n",
       "      <th>11738</th>\n",
       "      <td>Female</td>\n",
       "      <td>4.0</td>\n",
       "      <td>True</td>\n",
       "    </tr>\n",
       "    <tr>\n",
       "      <th>11743</th>\n",
       "      <td>Male</td>\n",
       "      <td>1.5</td>\n",
       "      <td>True</td>\n",
       "    </tr>\n",
       "    <tr>\n",
       "      <th>11746</th>\n",
       "      <td>Male</td>\n",
       "      <td>4.5</td>\n",
       "      <td>True</td>\n",
       "    </tr>\n",
       "    <tr>\n",
       "      <th>11751</th>\n",
       "      <td>Male</td>\n",
       "      <td>1.0</td>\n",
       "      <td>True</td>\n",
       "    </tr>\n",
       "    <tr>\n",
       "      <th>11753</th>\n",
       "      <td>Male</td>\n",
       "      <td>6.0</td>\n",
       "      <td>True</td>\n",
       "    </tr>\n",
       "  </tbody>\n",
       "</table>\n",
       "<p>3703 rows × 3 columns</p>\n",
       "</div>"
      ],
      "text/plain": [
       "          sex  score  recidivist\n",
       "2        Male    2.0        True\n",
       "3        Male    3.5        True\n",
       "7        Male    4.0        True\n",
       "12       Male    4.0        True\n",
       "14       Male    5.0        True\n",
       "...       ...    ...         ...\n",
       "11738  Female    4.0        True\n",
       "11743    Male    1.5        True\n",
       "11746    Male    4.5        True\n",
       "11751    Male    1.0        True\n",
       "11753    Male    6.0        True\n",
       "\n",
       "[3703 rows x 3 columns]"
      ]
     },
     "execution_count": 63,
     "metadata": {},
     "output_type": "execute_result"
    }
   ],
   "source": [
    "df_sex_true"
   ]
  },
  {
   "cell_type": "code",
   "execution_count": 64,
   "id": "d7c02f0a-b8a7-4468-bea4-bbadd2f162ef",
   "metadata": {},
   "outputs": [
    {
     "data": {
      "text/plain": [
       "sex\n",
       "Female    3.236686\n",
       "Male      3.566962\n",
       "Name: score, dtype: float64"
      ]
     },
     "execution_count": 64,
     "metadata": {},
     "output_type": "execute_result"
    }
   ],
   "source": [
    "#Agrupamos por la media del score ambos dataframes\n",
    "\n",
    "B=df_sex_false.groupby(['sex']).mean()['score']\n",
    "B"
   ]
  },
  {
   "cell_type": "code",
   "execution_count": 65,
   "id": "f1200e83-73c9-4a7e-82aa-adf736f444a5",
   "metadata": {},
   "outputs": [
    {
     "data": {
      "text/plain": [
       "sex\n",
       "Female    4.493056\n",
       "Male      5.107291\n",
       "Name: score, dtype: float64"
      ]
     },
     "execution_count": 65,
     "metadata": {},
     "output_type": "execute_result"
    }
   ],
   "source": [
    "C=df_sex_true.groupby(['sex']).mean()['score']\n",
    "C"
   ]
  },
  {
   "cell_type": "code",
   "execution_count": 66,
   "id": "e0c8ea7b-af78-4723-9ac1-af91b25b8a6d",
   "metadata": {},
   "outputs": [
    {
     "data": {
      "text/plain": [
       "sex\n",
       "Female    1690\n",
       "Male      5645\n",
       "Name: recidivist, dtype: int64"
      ]
     },
     "execution_count": 66,
     "metadata": {},
     "output_type": "execute_result"
    }
   ],
   "source": [
    "# Calculamos la frecunecia acumulada de casos que son reincidentes\n",
    "\n",
    "h=df_sex_false.groupby(['sex']).count()['recidivist']\n",
    "h"
   ]
  },
  {
   "cell_type": "code",
   "execution_count": 67,
   "id": "20ae7bb5-a699-4a06-a2e2-aa0dde4ff347",
   "metadata": {},
   "outputs": [
    {
     "data": {
      "text/plain": [
       "sex\n",
       "Female     576\n",
       "Male      3127\n",
       "Name: recidivist, dtype: int64"
      ]
     },
     "execution_count": 67,
     "metadata": {},
     "output_type": "execute_result"
    }
   ],
   "source": [
    "g=df_sex_true.groupby(['sex']).count()['recidivist']\n",
    "g"
   ]
  },
  {
   "cell_type": "code",
   "execution_count": 68,
   "id": "81525b45-0d73-41c8-8d73-455bc6ea7e87",
   "metadata": {},
   "outputs": [],
   "source": [
    "X=np.arange(2)"
   ]
  },
  {
   "cell_type": "code",
   "execution_count": 69,
   "id": "51b6ae6d-8ea1-447b-815f-b66c33ca8317",
   "metadata": {},
   "outputs": [
    {
     "data": {
      "image/png": "[encoded data removed]",
      "text/plain": [
       "<Figure size 432x288 with 1 Axes>"
      ]
     },
     "metadata": {
      "needs_background": "light"
     },
     "output_type": "display_data"
    },
    {
     "data": {
      "image/png": "[encoded data removed]",
      "text/plain": [
       "<Figure size 432x288 with 1 Axes>"
      ]
     },
     "metadata": {
      "needs_background": "light"
     },
     "output_type": "display_data"
    }
   ],
   "source": [
    "plt.bar(X-0.1, B, width=0.2, label='True')\n",
    "plt.bar(X+0.1 ,C ,width=0.2, label='False')\n",
    "\n",
    "plt.xticks(X,['Female', 'Male'],rotation = 50)\n",
    "           \n",
    "plt.ylabel('Score mean')\n",
    "plt.xlabel('Sex')\n",
    "plt.title('EVALUACIÓN DE RIESGO MEDIA POR SEXO')\n",
    "\n",
    "plt.legend(loc='best')\n",
    "\n",
    "plt.show()\n",
    "\n",
    "\n",
    "\n",
    "plt.bar(X-0.1, h, width=0.2, label='False')\n",
    "plt.bar(X+0.1 ,g ,width=0.2, label='True')\n",
    "\n",
    "plt.xticks(X,['Female', 'Male'],rotation = 50)\n",
    "\n",
    "plt.title('CASOS TOTALES DE REINCIDENTES Y NO REINCIDENTES POR SEXO')\n",
    "plt.ylabel('Frecuency')\n",
    "plt.xlabel('Sex')\n",
    "\n",
    "plt.legend(loc='best')\n",
    "\n",
    "plt.show()"
   ]
  },
  {
   "cell_type": "markdown",
   "id": "864ec831-b164-4f71-a47b-b9a6c12313c3",
   "metadata": {},
   "source": [
    "Analicemos la afirmación del enunciado para los dos sexos. En ella, podemos leer que la evalución de riesgo que da el sistema es mayor para personas de sexo masculino que femenino y, sin embargo, la tasa de reincidencia es mayor para los hombres que las mujeres. Analicemos esta afirmación con estos dos gráficos. \n",
    "\n",
    "Para empezar, la evaluación media, tanto para los casos que son verdaderamente reincidentes (true/azul) como para los que no (false/naranja), es similar para ambos grupos de individuos, habiendo unas diferencias de 0.6 y 0.3, respectivamente, para los casos en los que si son verdaderamente reincidentes que para los que no lo son, respectivamente.\n",
    "\n",
    "En segundo lugar, analicemos los casos que son efectivamente reincidentes en cada grupo. Para el caso de los hombres tenemos que el 35% * de los casos son reincidentes frente a un 25% ** de las mujeres. Por lo que la tasa de reincidencia es un 10% mayor para ellos que para ellas.\n",
    "\n",
    "En resumen, poniedo ambos datos en porcentaje, obtenemos que los hombres obtiene de media en torno a un 4.5% *** más de riesgo asignado por el sistema, pero a su vez, la reincidencia en delitos es un 10% superior que el otro grupo. Por lo que podemos decir que el 5.5% de diferencia se puede deber a un error y no a una injusta calificación por parte del modelo COMPAS.\n",
    "\n",
    "*Calculo realizado: 3127 * 100 / 8782\n",
    "\n",
    "**Calculo realizado: 576 * 100 / 2266\n",
    "\n",
    "***Media de las diferencias entre hombre y  mujeres para ambos tipos de delitos"
   ]
  },
  {
   "cell_type": "markdown",
   "id": "18170b84-65d7-4254-9cf5-f0534b1d8bf1",
   "metadata": {},
   "source": [
    "### 5. ¿Para qué tipo de riesgos, el de delitos generales o el de delitos violentos, tiene el sistema más capacidad predictiva?"
   ]
  },
  {
   "cell_type": "markdown",
   "id": "d04d5719-87ec-493e-b65e-a4a44a70774b",
   "metadata": {},
   "source": [
    "Para responder a esta pregunta vamos a hacer uso de los tablas de contingencia empleadas en el paratado 2. Con ellas calcularemos la exactitud, es decir, el total de casos identificados correctamente por el sistema para los casos de reincidencias no violentas y violentas."
   ]
  },
  {
   "cell_type": "code",
   "execution_count": 70,
   "id": "cf286af4-e8db-4406-beb0-17a5c54e1ea9",
   "metadata": {},
   "outputs": [
    {
     "data": {
      "text/html": [
       "<div>\n",
       "<style scoped>\n",
       "    .dataframe tbody tr th:only-of-type {\n",
       "        vertical-align: middle;\n",
       "    }\n",
       "\n",
       "    .dataframe tbody tr th {\n",
       "        vertical-align: top;\n",
       "    }\n",
       "\n",
       "    .dataframe thead th {\n",
       "        text-align: right;\n",
       "    }\n",
       "</style>\n",
       "<table border=\"1\" class=\"dataframe\">\n",
       "  <thead>\n",
       "    <tr style=\"text-align: right;\">\n",
       "      <th>Reales</th>\n",
       "      <th>False</th>\n",
       "      <th>True</th>\n",
       "    </tr>\n",
       "    <tr>\n",
       "      <th>Predichos</th>\n",
       "      <th></th>\n",
       "      <th></th>\n",
       "    </tr>\n",
       "  </thead>\n",
       "  <tbody>\n",
       "    <tr>\n",
       "      <th>False</th>\n",
       "      <td>6449</td>\n",
       "      <td>1605</td>\n",
       "    </tr>\n",
       "    <tr>\n",
       "      <th>True</th>\n",
       "      <td>2200</td>\n",
       "      <td>1503</td>\n",
       "    </tr>\n",
       "  </tbody>\n",
       "</table>\n",
       "</div>"
      ],
      "text/plain": [
       "Reales     False  True\n",
       "Predichos             \n",
       "False       6449  1605\n",
       "True        2200  1503"
      ]
     },
     "execution_count": 70,
     "metadata": {},
     "output_type": "execute_result"
    }
   ],
   "source": [
    "tabla_contingencia"
   ]
  },
  {
   "cell_type": "code",
   "execution_count": 71,
   "id": "ab8f596d-a766-4445-8d60-65e20cd6707d",
   "metadata": {},
   "outputs": [
    {
     "data": {
      "text/plain": [
       "67.64"
      ]
     },
     "execution_count": 71,
     "metadata": {},
     "output_type": "execute_result"
    }
   ],
   "source": [
    "exactitud = (6449+1503)/(6449+1503+1605+2200)\n",
    "round(exactitud*100,2)"
   ]
  },
  {
   "cell_type": "markdown",
   "id": "d834c730-6c53-45fe-bde8-87cf8b16e556",
   "metadata": {},
   "source": [
    "Tan solo el 67% de los casos de reincidentes no violentos son identificados correctamente, dejando un error de un tercio de los sujetos que son clasificados incorrectamente"
   ]
  },
  {
   "cell_type": "code",
   "execution_count": 72,
   "id": "d519cc03-1527-4824-8510-19082207fd0d",
   "metadata": {},
   "outputs": [
    {
     "data": {
      "text/html": [
       "<div>\n",
       "<style scoped>\n",
       "    .dataframe tbody tr th:only-of-type {\n",
       "        vertical-align: middle;\n",
       "    }\n",
       "\n",
       "    .dataframe tbody tr th {\n",
       "        vertical-align: top;\n",
       "    }\n",
       "\n",
       "    .dataframe thead th {\n",
       "        text-align: right;\n",
       "    }\n",
       "</style>\n",
       "<table border=\"1\" class=\"dataframe\">\n",
       "  <thead>\n",
       "    <tr style=\"text-align: right;\">\n",
       "      <th>Reales</th>\n",
       "      <th>False</th>\n",
       "      <th>True</th>\n",
       "    </tr>\n",
       "    <tr>\n",
       "      <th>Predichos</th>\n",
       "      <th></th>\n",
       "      <th></th>\n",
       "    </tr>\n",
       "  </thead>\n",
       "  <tbody>\n",
       "    <tr>\n",
       "      <th>False</th>\n",
       "      <td>9359</td>\n",
       "      <td>1516</td>\n",
       "    </tr>\n",
       "    <tr>\n",
       "      <th>True</th>\n",
       "      <td>616</td>\n",
       "      <td>266</td>\n",
       "    </tr>\n",
       "  </tbody>\n",
       "</table>\n",
       "</div>"
      ],
      "text/plain": [
       "Reales     False  True\n",
       "Predichos             \n",
       "False       9359  1516\n",
       "True         616   266"
      ]
     },
     "execution_count": 72,
     "metadata": {},
     "output_type": "execute_result"
    }
   ],
   "source": [
    "tabla_contingencia2"
   ]
  },
  {
   "cell_type": "code",
   "execution_count": 73,
   "id": "3592fa48-b93a-4f36-9a4c-e8a13a9c028f",
   "metadata": {},
   "outputs": [
    {
     "data": {
      "text/plain": [
       "81.87"
      ]
     },
     "execution_count": 73,
     "metadata": {},
     "output_type": "execute_result"
    }
   ],
   "source": [
    "exactitud2 =  (9359+266)/(9359+266+1516+616)\n",
    "round(exactitud2*100,2)"
   ]
  },
  {
   "cell_type": "markdown",
   "id": "4ccd4ff3-0a70-419d-a982-baf2c33df6d3",
   "metadata": {},
   "source": [
    "Por lo que observamos, la exactitud es mayor para los casos de reincidentes violentos que no violentos. \n",
    "\n",
    "Con esto podemos concluir que la capacidad predictiva del sistemas COMPAS es mayor para los casos de reincidentes violentos que para los que no lo son."
   ]
  }
 ],
 "metadata": {
  "kernelspec": {
   "display_name": "Python 3 (ipykernel)",
   "language": "python",
   "name": "python3"
  },
  "language_info": {
   "codemirror_mode": {
    "name": "ipython",
    "version": 3
   },
   "file_extension": ".py",
   "mimetype": "text/x-python",
   "name": "python",
   "nbconvert_exporter": "python",
   "pygments_lexer": "ipython3",
   "version": "3.9.7"
  }
 },
 "nbformat": 4,
 "nbformat_minor": 5
}
